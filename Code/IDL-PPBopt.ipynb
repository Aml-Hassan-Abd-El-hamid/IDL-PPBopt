{
 "cells": [
  {
   "cell_type": "code",
   "execution_count": 30,
   "id": "6ac4ca16",
   "metadata": {},
   "outputs": [],
   "source": [
    "import os\n",
    "import torch\n",
    "import torch.autograd as autograd\n",
    "import torch.nn\tas nn\n",
    "import torch.nn.functional as F\n",
    "import torch.optim as optim\n",
    "import torch.utils.data\tas Data\n",
    "torch.manual_seed(8) # for reproduce\n",
    "\n",
    "import time\n",
    "import numpy as\tnp\n",
    "import gc\n",
    "import sys\n",
    "sys.setrecursionlimit(50000)\n",
    "import pickle\n",
    "torch.backends.cudnn.benchmark = True\n",
    "device = torch.device('cuda' if torch.cuda.is_available() else 'cpu')\n",
    "torch.set_default_tensor_type('torch.FloatTensor')\n",
    "# from tensorboardX\timport SummaryWriter\n",
    "torch.nn.Module.dump_patches = True\n",
    "import copy\n",
    "import pandas as pd\n",
    "#then import my\town\tmodules\n",
    "from AttentiveFP import\tFingerprint, Fingerprint_viz, save_smiles_dicts, get_smiles_dicts, get_smiles_array, moltosvg_highlight\n",
    "\n",
    "from rdkit import Chem\n",
    "# from rdkit.Chem import AllChem\n",
    "from rdkit.Chem\timport QED\n",
    "from rdkit.Chem\timport rdMolDescriptors, MolSurf\n",
    "from rdkit.Chem.Draw import\tSimilarityMaps\n",
    "from rdkit import Chem\n",
    "from rdkit.Chem\timport AllChem\n",
    "from rdkit.Chem\timport rdDepictor\n",
    "from rdkit.Chem.Draw import\trdMolDraw2D\n",
    "from numpy.polynomial.polynomial import\tpolyfit\n",
    "from rdkit.Chem import Draw\n",
    "from rdkit.Chem.Draw import IPythonConsole\n",
    "from rdkit.Chem.Draw import rdMolDraw2D\n",
    "import matplotlib.pyplot as\tplt\n",
    "from matplotlib\timport gridspec\n",
    "import matplotlib.cm as\tcm\n",
    "import matplotlib\n",
    "#import seaborn as sns; sns.set_style(\"darkgrid\")\n",
    "from IPython.display import\tSVG, display\n",
    "#import\tsascorer\n",
    "import itertools\n",
    "from sklearn.metrics import\tr2_score\n",
    "import scipy\n",
    "\n",
    "from sarpy import SARpy\n",
    "import operator,pybel\n",
    "import os\n",
    "#import setting\n",
    "from sarpy.SARpytools import *\n",
    "import warnings\n",
    "try:\n",
    "    from rdkit.Chem import AllChem\n",
    "    from rdkit import Chem\n",
    "    from rdkit.Chem import Draw\n",
    "    from rdkit.Chem.Draw import rdMolDraw2D\n",
    "    from rdkit.Chem import rdDepictor\n",
    "    import cairosvg\n",
    "except:\n",
    "    warnings.warn('Cannot import rdkit or cairosvg, so report is not supported')\n",
    "    Chem = None\n",
    "    setting.report_substructures = False\n",
    "\n",
    "from scipy import stats\n",
    "import operator\n",
    "from cairosvg import svg2png"
   ]
  },
  {
   "cell_type": "markdown",
   "id": "6d9cf66f",
   "metadata": {},
   "source": [
    "# Related Functions"
   ]
  },
  {
   "cell_type": "code",
   "execution_count": 41,
   "id": "060195a3",
   "metadata": {},
   "outputs": [],
   "source": [
    "def eval_for_viz(model, viz_list,batch_size):\n",
    "    model.eval()\n",
    "    test_MAE_list = []\n",
    "    test_MSE_list = []\n",
    "    mol_prediction_list = []\n",
    "    atom_feature_list = []\n",
    "    atom_weight_list = []\n",
    "    mol_feature_list = []\n",
    "    mol_feature_unbounded_list = []\n",
    "    batch_list = []\n",
    "    for i in range(0, len(viz_list), batch_size):\n",
    "        batch = viz_list[i:i+batch_size]\n",
    "        batch_list.append(batch)\n",
    "    for counter, batch in enumerate(batch_list):\n",
    "        x_atom, x_bonds, x_atom_index, x_bond_index, x_mask, smiles_to_rdkit_list = get_smiles_array(viz_list,get_smiles_dicts(batch))\n",
    "        atom_feature_viz, atom_attention_weight_viz, mol_feature_viz, mol_feature_unbounded_viz, mol_attention_weight_viz, mol_prediction = model(\n",
    "            torch.Tensor(x_atom), torch.Tensor(x_bonds),\n",
    "            torch.LongTensor(x_atom_index),\n",
    "            torch.LongTensor(x_bond_index),\n",
    "            torch.Tensor(x_mask))\n",
    "        #print(mol_attention_weight_viz[1].cpu().detach().numpy())\n",
    "        mol_prediction_list.append(mol_prediction.cpu().detach().squeeze().numpy())\n",
    "        atom_feature_list.append(np.stack([atom_feature_viz[L].cpu().detach().numpy() for L in range(radius+1)]))\n",
    "        atom_weight_list.append(np.stack([mol_attention_weight_viz[t].cpu().detach().numpy() for t in range(T)]))\n",
    "        mol_feature_list.append(np.stack([mol_feature_viz[t].cpu().detach().numpy() for t in range(T)]))\n",
    "        mol_feature_unbounded_list.append(np.stack([mol_feature_unbounded_viz[t].cpu().detach().numpy() for t in range(T)]))\n",
    "\n",
    "    mol_prediction_array = np.concatenate(mol_prediction_list,axis=0)\n",
    "    atom_feature_array = np.concatenate(atom_feature_list,axis=1)\n",
    "    #print(atom_weight_list)\n",
    "    atom_weight_array = np.concatenate(atom_weight_list,axis=1)\n",
    "    #print(atom_weight_array)\n",
    "    mol_feature_array = np.concatenate(mol_feature_list,axis=1)\n",
    "    mol_feature_unbounded_array = np.concatenate(mol_feature_unbounded_list,axis=1)\n",
    "#     print(mol_prediction_array.shape, atom_feature_array.shape, atom_weight_array.shape, mol_feature_array.shape)\n",
    "    return mol_prediction_array, atom_feature_array, atom_weight_array, mol_feature_array, mol_feature_unbounded_array\n",
    "\n",
    "def eval(model, dataset):\n",
    "    model.to(device).eval()\n",
    "#    eval_MAE_list = []\n",
    "#    eval_MSE_list = []\n",
    "#    y_val_list = []\n",
    "    y_pred_list = []\n",
    "    valList = np.arange(0,dataset.shape[0])\n",
    "    batch_list = []\n",
    "    for i in range(0, dataset.shape[0], batch_size):\n",
    "        batch = valList[i:i+batch_size]\n",
    "        batch_list.append(batch)\n",
    "    for counter, eval_batch in enumerate(batch_list):\n",
    "        batch_df = dataset.loc[eval_batch,:]\n",
    "        smiles_list = batch_df.cano_smiles.values\n",
    "#         print(batch_df)\n",
    "#        y_val = batch_df[tasks[0]].values\n",
    "\n",
    "        x_atom, x_bonds, x_atom_index, x_bond_index, x_mask, smiles_to_rdkit_list = get_smiles_array(smiles_list,feature_dicts)\n",
    "        atoms_prediction, mol_prediction = model(torch.Tensor(x_atom).to(device),torch.Tensor(x_bonds).to(device),torch.LongTensor(x_atom_index).to(device),torch.LongTensor(x_bond_index).to(device),torch.Tensor(x_mask).to(device))\n",
    "#        MAE = F.l1_loss(mol_prediction, torch.Tensor(y_val).view(-1,1), reduction='none')\n",
    "#        MSE = F.mse_loss(mol_prediction, torch.Tensor(y_val).view(-1,1), reduction='none')\n",
    "#         print(x_mask[:2],atoms_prediction.shape, mol_prediction,MSE)\n",
    "#        y_val_list.extend(y_val)\n",
    "        y_pred_list.extend(np.array(mol_prediction.data.squeeze().cpu().numpy()))\n",
    "\n",
    "#        eval_MAE_list.extend(MAE.data.squeeze().cpu().numpy())\n",
    "#        eval_MSE_list.extend(MSE.data.squeeze().cpu().numpy())\n",
    "#    r2 = r2_score(y_val_list,y_pred_list)\n",
    "#    pr2 = scipy.stats.pearsonr(y_val_list,y_pred_list)[0]\n",
    "    return y_pred_list\n",
    "\n",
    "def get_smi_aw(remained_df):\n",
    "    batch_size = len(remained_df.cano_smiles.values)\n",
    "    train_df_smiles = [Chem.MolToSmiles(Chem.MolFromSmiles(remained_df.cano_smiles.values[m]),isomericSmiles=True) for m in range(0,batch_size)]\n",
    "    mol_prediction_array, atom_feature_array, atom_weight_array, mol_feature_array, mol_feature_unbounded_array =  eval_for_viz(model_for_viz, train_df_smiles,batch_size)\n",
    "    x_atom, x_bonds, x_atom_index, x_bond_index, x_mask, smiles_to_rdkit_list = get_smiles_array(train_df_smiles,get_smiles_dicts(train_df_smiles))\n",
    "    smi_aw = {}\n",
    "    for i in range(batch_size):\n",
    "        smiles = train_df_smiles[i]\n",
    "        index_atom = smiles_to_rdkit_list[smiles]\n",
    "        weight_recoder = np.stack([atom_weight_array[:,i][0][m] for m in np.argsort(index_atom)]) #1 is wrong\n",
    "        atom_weight = [weight_recoder[m][0] for m in range(len(weight_recoder))]\n",
    "        smi_aw[smiles] = atom_weight  #atom_weight\n",
    "        #smi_ac[smiles] = np.sum(atom_weight)\n",
    "    return smi_aw\n",
    "\n",
    "\n",
    "def dataset(compounds):\n",
    "    dataset = []\n",
    "    for compound in compounds:\n",
    "        compound = readstring('smi',compound)\n",
    "        structure = Structure(compound)\n",
    "        dataset.append(structure)\n",
    "    return dataset\n",
    "\n",
    "def collectSubs(structures, grinder):\n",
    "    if not structures:\n",
    "        return []\n",
    "    substructures = []\n",
    "    for structure in structures:\n",
    "        substructures.extend(grinder.getFragments(structure))\n",
    "    #print(fragments(substructures)) #substructures generate by each iteration\n",
    "#    print('%s\\tsubstructures found...' % len(substructures))\n",
    "    return substructures + collectSubs(substructures, grinder)\n",
    "\n",
    "def fragments(substructures):\n",
    "    fragments = []\n",
    "    for i in range(len(substructures)):\n",
    "        fragments.append(substructures[i].smiles)\n",
    "    return fragments\n",
    "\n",
    "\n",
    "def drawmol(smiles, atom_weights,smarts=None):\n",
    "    min_value = np.min(atom_weights)\n",
    "    max_value = np.max(atom_weights)\n",
    "    mean_value = np.mean(atom_weights)\n",
    "    atom_weights = (atom_weights - min_value) / (max_value - min_value)\n",
    "#    atom_weights = (atom_weights -mean_value)*1e3\n",
    "    #print(atom_weights)\n",
    "    #print(bg.number_of_nodes())\n",
    "    \n",
    "    norm = matplotlib.colors.Normalize(vmin=0, vmax=1.28) #vmin=0.5 vmax=1.28\n",
    "    cmap = cm.get_cmap('Oranges')\n",
    "    plt_colors = cm.ScalarMappable(norm=norm,cmap=cmap)\n",
    "    atom_colors = {i: plt_colors.to_rgba(atom_weights[i]) for i in range(len(atom_weights))}\n",
    "#    print(atom_weights[2])\n",
    "    \n",
    "    mol = Chem.MolFromSmiles(smiles)\n",
    "    rdDepictor.Compute2DCoords(mol)\n",
    "    drawer = rdMolDraw2D.MolDraw2DSVG(700, 700)\n",
    "    drawer.SetFontSize(0.6)\n",
    "    op = drawer.drawOptions()\n",
    "    bond_list = []\n",
    "    bond_cols = {}\n",
    "    if smarts:\n",
    "        for smart in smarts:\n",
    "            patt = Chem.MolFromSmarts(smart)\n",
    "            atom_number = mol.GetSubstructMatch(patt)\n",
    "            for bond in patt.GetBonds():\n",
    "                aid1 = atom_number[bond.GetBeginAtomIdx()]\n",
    "                aid2 = atom_number[bond.GetEndAtomIdx()]\n",
    "                bond_list.append(mol.GetBondBetweenAtoms(aid1, aid2).GetIdx())\n",
    "            colors = [(0.8,0,0),(0.8,0,0),(0.8,0,0)]            \n",
    "            for bd in bond_list:\n",
    "                bond_cols[bd] = colors[i%4]\n",
    "    mol = rdMolDraw2D.PrepareMolForDrawing(mol)\n",
    "#    print(mol)\n",
    "    drawer.DrawMolecule(mol, highlightAtoms=range(len(atom_weights)),\n",
    "                             highlightBonds=bond_list,\n",
    "                             highlightAtomColors=atom_colors,\n",
    "                             highlightBondColors = bond_cols)\n",
    "    drawer.FinishDrawing()\n",
    "    svg = drawer.GetDrawingText()\n",
    "    svg = svg.replace('svg:', '')\n",
    "#     with open(str(smiles)+'.svg','w') as f:\n",
    "#         f.write(svg)\n",
    "    return svg"
   ]
  },
  {
   "cell_type": "markdown",
   "id": "eeeebd58",
   "metadata": {},
   "source": [
    "# Step 1. Prepare input file"
   ]
  },
  {
   "cell_type": "code",
   "execution_count": 42,
   "id": "3d2dcd76",
   "metadata": {},
   "outputs": [
    {
     "name": "stdout",
     "output_type": "stream",
     "text": [
      "number of all smiles:  4\n",
      "number of successfully processed smiles:  4\n"
     ]
    }
   ],
   "source": [
    "task_name = 'ppb'\n",
    "tasks = ['endpoint']\n",
    "\n",
    "raw_filename = \"input_compounds.csv\"\n",
    "feature_filename = raw_filename.replace('.csv','.pickle')\n",
    "\n",
    "filename = raw_filename.replace('.csv','')\n",
    "prefix_filename = raw_filename.split('/')[-1].replace('.csv','')\n",
    "smiles_tasks_df = pd.read_csv(raw_filename)\n",
    "smilesList = smiles_tasks_df.cano_smiles.values\n",
    "print(\"number of all smiles: \",len(smilesList))\n",
    "atom_num_dist = []\n",
    "remained_smiles = []\n",
    "canonical_smiles_list = []\n",
    "for smiles in smilesList:\n",
    "    try:\n",
    "        mol = Chem.MolFromSmiles(smiles)\n",
    "        atom_num_dist.append(len(mol.GetAtoms()))\n",
    "        remained_smiles.append(smiles)\n",
    "        canonical_smiles_list.append(Chem.MolToSmiles(Chem.MolFromSmiles(smiles), isomericSmiles=True))\n",
    "    except:\n",
    "        print(smiles)\n",
    "        pass\n",
    "print(\"number of successfully processed smiles: \", len(remained_smiles))\n",
    "smiles_tasks_df = smiles_tasks_df[smiles_tasks_df[\"cano_smiles\"].isin(remained_smiles)]\n",
    "# print(smiles_tasks_df)\n",
    "smiles_tasks_df['cano_smiles'] =canonical_smiles_list\n",
    "assert canonical_smiles_list[0]==Chem.MolToSmiles(Chem.MolFromSmiles(smiles_tasks_df['cano_smiles'][0]), isomericSmiles=True)"
   ]
  },
  {
   "cell_type": "markdown",
   "id": "24de2e49",
   "metadata": {},
   "source": [
    "# Step 2. Calculate molecule feature"
   ]
  },
  {
   "cell_type": "code",
   "execution_count": 43,
   "id": "7b6ea307",
   "metadata": {},
   "outputs": [
    {
     "name": "stdout",
     "output_type": "stream",
     "text": [
      "feature dicts file saved as input_compounds.pickle\n",
      "0 compounds cannot be featured\n"
     ]
    }
   ],
   "source": [
    "feature_dicts = save_smiles_dicts(smilesList,filename)\n",
    "remained_df = smiles_tasks_df[smiles_tasks_df[\"cano_smiles\"].isin(feature_dicts['smiles_to_atom_mask'].keys())]\n",
    "uncovered_df = smiles_tasks_df.drop(remained_df.index)\n",
    "print(str(len(uncovered_df.cano_smiles))+' compounds cannot be featured')\n",
    "remained_df = remained_df.reset_index(drop=True)"
   ]
  },
  {
   "cell_type": "markdown",
   "id": "1763ad3a",
   "metadata": {},
   "source": [
    "# Step 3. Load model"
   ]
  },
  {
   "cell_type": "code",
   "execution_count": 44,
   "id": "ef6d0c4f",
   "metadata": {},
   "outputs": [
    {
     "name": "stderr",
     "output_type": "stream",
     "text": [
      "/home/aml/anaconda3/envs/IDL/lib/python3.7/site-packages/torch/serialization.py:657: SourceChangeWarning: source code of class 'AttentiveFP.AttentiveLayers.Fingerprint' has changed. Saved a reverse patch to Fingerprint.patch. Run `patch -p0 < Fingerprint.patch` to revert your changes.\n",
      "  warnings.warn(msg, SourceChangeWarning)\n",
      "/home/aml/anaconda3/envs/IDL/lib/python3.7/site-packages/torch/serialization.py:657: SourceChangeWarning: source code of class 'torch.nn.modules.linear.Linear' has changed. Saved a reverse patch to Linear.patch. Run `patch -p0 < Linear.patch` to revert your changes.\n",
      "  warnings.warn(msg, SourceChangeWarning)\n",
      "/home/aml/anaconda3/envs/IDL/lib/python3.7/site-packages/torch/serialization.py:657: SourceChangeWarning: source code of class 'torch.nn.modules.container.ModuleList' has changed. Saved a reverse patch to ModuleList.patch. Run `patch -p0 < ModuleList.patch` to revert your changes.\n",
      "  warnings.warn(msg, SourceChangeWarning)\n"
     ]
    },
    {
     "data": {
      "text/plain": [
       "tensor(True)"
      ]
     },
     "execution_count": 44,
     "metadata": {},
     "output_type": "execute_result"
    }
   ],
   "source": [
    "batch_size = 64\n",
    "p_dropout= 0.1\n",
    "fingerprint_dim = 200\n",
    "\n",
    "weight_decay = 5 # also known as l2_regularization_lambda\n",
    "learning_rate = 2.5\n",
    "output_units_num = 1 # for regression model\n",
    "radius = 2\n",
    "T = 2\n",
    "\n",
    "x_atom, x_bonds, x_atom_index, x_bond_index, x_mask, smiles_to_rdkit_list = get_smiles_array([canonical_smiles_list[0]],feature_dicts)\n",
    "num_atom_features = x_atom.shape[-1]\n",
    "num_bond_features = x_bonds.shape[-1]\n",
    "loss_function = nn.MSELoss()\n",
    "model = Fingerprint(radius, T, num_atom_features, num_bond_features,\n",
    "            fingerprint_dim, output_units_num, p_dropout)\n",
    "model.to(device)\n",
    "\n",
    "best_model = torch.load('saved_models/model_ppb_3922_Tue_Dec_22_22-23-22_2020_'+'54'+'.pt',map_location=torch.device(device))\n",
    "\n",
    "best_model_dict = best_model.state_dict()\n",
    "best_model_wts = copy.deepcopy(best_model_dict)\n",
    "\n",
    "model.load_state_dict(best_model_wts)\n",
    "(best_model.align[0].weight == model.align[0].weight).all()\n",
    "\n",
    "model_for_viz = Fingerprint_viz(radius, T, num_atom_features, num_bond_features,\n",
    "            fingerprint_dim, output_units_num, p_dropout)\n",
    "model_for_viz.to(device)\n",
    "\n",
    "model_for_viz.load_state_dict(best_model_wts)\n",
    "(best_model.align[0].weight == model_for_viz.align[0].weight).all()"
   ]
  },
  {
   "cell_type": "markdown",
   "id": "f480fccc",
   "metadata": {},
   "source": [
    "# Step 4. Predict values"
   ]
  },
  {
   "cell_type": "code",
   "execution_count": 45,
   "id": "6cdc4fe3",
   "metadata": {
    "scrolled": true
   },
   "outputs": [
    {
     "ename": "RuntimeError",
     "evalue": "Cannot initialize CUDA without ATen_cuda library. PyTorch splits its backend into two shared libraries: a CPU library and a CUDA library; this error has occurred because you are trying to use some CUDA functionality, but the CUDA library has not been loaded by the dynamic linker for some reason.  The CUDA library MUST be loaded, EVEN IF you don't directly use any symbols from the CUDA library! One common culprit is a lack of -Wl,--no-as-needed in your link arguments; many dynamic linkers will delete dynamic library dependencies if you don't depend on any of their symbols.  You can check if this has occurred by using ldd on your binary to see if there is a dependency on *_cuda.so library.",
     "output_type": "error",
     "traceback": [
      "\u001b[0;31m---------------------------------------------------------------------------\u001b[0m",
      "\u001b[0;31mRuntimeError\u001b[0m                              Traceback (most recent call last)",
      "\u001b[0;32m<ipython-input-45-fb4f819e9b4a>\u001b[0m in \u001b[0;36m<module>\u001b[0;34m\u001b[0m\n\u001b[0;32m----> 1\u001b[0;31m \u001b[0mremain_pred_list\u001b[0m \u001b[0;34m=\u001b[0m \u001b[0meval\u001b[0m\u001b[0;34m(\u001b[0m\u001b[0mmodel\u001b[0m\u001b[0;34m,\u001b[0m \u001b[0mremained_df\u001b[0m\u001b[0;34m)\u001b[0m\u001b[0;34m\u001b[0m\u001b[0;34m\u001b[0m\u001b[0m\n\u001b[0m\u001b[1;32m      2\u001b[0m \u001b[0mremained_df\u001b[0m\u001b[0;34m[\u001b[0m\u001b[0;34m'Predicted_values'\u001b[0m\u001b[0;34m]\u001b[0m \u001b[0;34m=\u001b[0m \u001b[0mremain_pred_list\u001b[0m\u001b[0;34m\u001b[0m\u001b[0;34m\u001b[0m\u001b[0m\n\u001b[1;32m      3\u001b[0m \u001b[0mremained_df\u001b[0m\u001b[0;34m\u001b[0m\u001b[0;34m\u001b[0m\u001b[0m\n",
      "\u001b[0;32m<ipython-input-41-60860ee28019>\u001b[0m in \u001b[0;36meval\u001b[0;34m(model, dataset)\u001b[0m\n\u001b[1;32m     54\u001b[0m \u001b[0;34m\u001b[0m\u001b[0m\n\u001b[1;32m     55\u001b[0m         \u001b[0mx_atom\u001b[0m\u001b[0;34m,\u001b[0m \u001b[0mx_bonds\u001b[0m\u001b[0;34m,\u001b[0m \u001b[0mx_atom_index\u001b[0m\u001b[0;34m,\u001b[0m \u001b[0mx_bond_index\u001b[0m\u001b[0;34m,\u001b[0m \u001b[0mx_mask\u001b[0m\u001b[0;34m,\u001b[0m \u001b[0msmiles_to_rdkit_list\u001b[0m \u001b[0;34m=\u001b[0m \u001b[0mget_smiles_array\u001b[0m\u001b[0;34m(\u001b[0m\u001b[0msmiles_list\u001b[0m\u001b[0;34m,\u001b[0m\u001b[0mfeature_dicts\u001b[0m\u001b[0;34m)\u001b[0m\u001b[0;34m\u001b[0m\u001b[0;34m\u001b[0m\u001b[0m\n\u001b[0;32m---> 56\u001b[0;31m         \u001b[0matoms_prediction\u001b[0m\u001b[0;34m,\u001b[0m \u001b[0mmol_prediction\u001b[0m \u001b[0;34m=\u001b[0m \u001b[0mmodel\u001b[0m\u001b[0;34m(\u001b[0m\u001b[0mtorch\u001b[0m\u001b[0;34m.\u001b[0m\u001b[0mTensor\u001b[0m\u001b[0;34m(\u001b[0m\u001b[0mx_atom\u001b[0m\u001b[0;34m)\u001b[0m\u001b[0;34m.\u001b[0m\u001b[0mto\u001b[0m\u001b[0;34m(\u001b[0m\u001b[0mdevice\u001b[0m\u001b[0;34m)\u001b[0m\u001b[0;34m,\u001b[0m\u001b[0mtorch\u001b[0m\u001b[0;34m.\u001b[0m\u001b[0mTensor\u001b[0m\u001b[0;34m(\u001b[0m\u001b[0mx_bonds\u001b[0m\u001b[0;34m)\u001b[0m\u001b[0;34m.\u001b[0m\u001b[0mto\u001b[0m\u001b[0;34m(\u001b[0m\u001b[0mdevice\u001b[0m\u001b[0;34m)\u001b[0m\u001b[0;34m,\u001b[0m\u001b[0mtorch\u001b[0m\u001b[0;34m.\u001b[0m\u001b[0mLongTensor\u001b[0m\u001b[0;34m(\u001b[0m\u001b[0mx_atom_index\u001b[0m\u001b[0;34m)\u001b[0m\u001b[0;34m.\u001b[0m\u001b[0mto\u001b[0m\u001b[0;34m(\u001b[0m\u001b[0mdevice\u001b[0m\u001b[0;34m)\u001b[0m\u001b[0;34m,\u001b[0m\u001b[0mtorch\u001b[0m\u001b[0;34m.\u001b[0m\u001b[0mLongTensor\u001b[0m\u001b[0;34m(\u001b[0m\u001b[0mx_bond_index\u001b[0m\u001b[0;34m)\u001b[0m\u001b[0;34m.\u001b[0m\u001b[0mto\u001b[0m\u001b[0;34m(\u001b[0m\u001b[0mdevice\u001b[0m\u001b[0;34m)\u001b[0m\u001b[0;34m,\u001b[0m\u001b[0mtorch\u001b[0m\u001b[0;34m.\u001b[0m\u001b[0mTensor\u001b[0m\u001b[0;34m(\u001b[0m\u001b[0mx_mask\u001b[0m\u001b[0;34m)\u001b[0m\u001b[0;34m.\u001b[0m\u001b[0mto\u001b[0m\u001b[0;34m(\u001b[0m\u001b[0mdevice\u001b[0m\u001b[0;34m)\u001b[0m\u001b[0;34m)\u001b[0m\u001b[0;34m\u001b[0m\u001b[0;34m\u001b[0m\u001b[0m\n\u001b[0m\u001b[1;32m     57\u001b[0m \u001b[0;31m#        MAE = F.l1_loss(mol_prediction, torch.Tensor(y_val).view(-1,1), reduction='none')\u001b[0m\u001b[0;34m\u001b[0m\u001b[0;34m\u001b[0m\u001b[0;34m\u001b[0m\u001b[0m\n\u001b[1;32m     58\u001b[0m \u001b[0;31m#        MSE = F.mse_loss(mol_prediction, torch.Tensor(y_val).view(-1,1), reduction='none')\u001b[0m\u001b[0;34m\u001b[0m\u001b[0;34m\u001b[0m\u001b[0;34m\u001b[0m\u001b[0m\n",
      "\u001b[0;32m~/anaconda3/envs/IDL/lib/python3.7/site-packages/torch/nn/modules/module.py\u001b[0m in \u001b[0;36m__call__\u001b[0;34m(self, *input, **kwargs)\u001b[0m\n\u001b[1;32m    548\u001b[0m             \u001b[0mresult\u001b[0m \u001b[0;34m=\u001b[0m \u001b[0mself\u001b[0m\u001b[0;34m.\u001b[0m\u001b[0m_slow_forward\u001b[0m\u001b[0;34m(\u001b[0m\u001b[0;34m*\u001b[0m\u001b[0minput\u001b[0m\u001b[0;34m,\u001b[0m \u001b[0;34m**\u001b[0m\u001b[0mkwargs\u001b[0m\u001b[0;34m)\u001b[0m\u001b[0;34m\u001b[0m\u001b[0;34m\u001b[0m\u001b[0m\n\u001b[1;32m    549\u001b[0m         \u001b[0;32melse\u001b[0m\u001b[0;34m:\u001b[0m\u001b[0;34m\u001b[0m\u001b[0;34m\u001b[0m\u001b[0m\n\u001b[0;32m--> 550\u001b[0;31m             \u001b[0mresult\u001b[0m \u001b[0;34m=\u001b[0m \u001b[0mself\u001b[0m\u001b[0;34m.\u001b[0m\u001b[0mforward\u001b[0m\u001b[0;34m(\u001b[0m\u001b[0;34m*\u001b[0m\u001b[0minput\u001b[0m\u001b[0;34m,\u001b[0m \u001b[0;34m**\u001b[0m\u001b[0mkwargs\u001b[0m\u001b[0;34m)\u001b[0m\u001b[0;34m\u001b[0m\u001b[0;34m\u001b[0m\u001b[0m\n\u001b[0m\u001b[1;32m    551\u001b[0m         \u001b[0;32mfor\u001b[0m \u001b[0mhook\u001b[0m \u001b[0;32min\u001b[0m \u001b[0mself\u001b[0m\u001b[0;34m.\u001b[0m\u001b[0m_forward_hooks\u001b[0m\u001b[0;34m.\u001b[0m\u001b[0mvalues\u001b[0m\u001b[0;34m(\u001b[0m\u001b[0;34m)\u001b[0m\u001b[0;34m:\u001b[0m\u001b[0;34m\u001b[0m\u001b[0;34m\u001b[0m\u001b[0m\n\u001b[1;32m    552\u001b[0m             \u001b[0mhook_result\u001b[0m \u001b[0;34m=\u001b[0m \u001b[0mhook\u001b[0m\u001b[0;34m(\u001b[0m\u001b[0mself\u001b[0m\u001b[0;34m,\u001b[0m \u001b[0minput\u001b[0m\u001b[0;34m,\u001b[0m \u001b[0mresult\u001b[0m\u001b[0;34m)\u001b[0m\u001b[0;34m\u001b[0m\u001b[0;34m\u001b[0m\u001b[0m\n",
      "\u001b[0;32m~/anaconda3/envs/IDL-PPBot/IDL-Repo/IDL-PPBopt/Code/AttentiveFP/AttentiveLayers.py\u001b[0m in \u001b[0;36mforward\u001b[0;34m(self, atom_list, bond_list, atom_degree_list, bond_degree_list, atom_mask)\u001b[0m\n\u001b[1;32m     48\u001b[0m         \u001b[0mattend_mask\u001b[0m\u001b[0;34m[\u001b[0m\u001b[0mattend_mask\u001b[0m \u001b[0;34m!=\u001b[0m \u001b[0mmol_length\u001b[0m\u001b[0;34m-\u001b[0m\u001b[0;36m1\u001b[0m\u001b[0;34m]\u001b[0m \u001b[0;34m=\u001b[0m \u001b[0;36m1\u001b[0m\u001b[0;34m\u001b[0m\u001b[0;34m\u001b[0m\u001b[0m\n\u001b[1;32m     49\u001b[0m         \u001b[0mattend_mask\u001b[0m\u001b[0;34m[\u001b[0m\u001b[0mattend_mask\u001b[0m \u001b[0;34m==\u001b[0m \u001b[0mmol_length\u001b[0m\u001b[0;34m-\u001b[0m\u001b[0;36m1\u001b[0m\u001b[0;34m]\u001b[0m \u001b[0;34m=\u001b[0m \u001b[0;36m0\u001b[0m\u001b[0;34m\u001b[0m\u001b[0;34m\u001b[0m\u001b[0m\n\u001b[0;32m---> 50\u001b[0;31m         \u001b[0mattend_mask\u001b[0m \u001b[0;34m=\u001b[0m \u001b[0mattend_mask\u001b[0m\u001b[0;34m.\u001b[0m\u001b[0mtype\u001b[0m\u001b[0;34m(\u001b[0m\u001b[0mtorch\u001b[0m\u001b[0;34m.\u001b[0m\u001b[0mFloatTensor\u001b[0m\u001b[0;34m)\u001b[0m\u001b[0;34m.\u001b[0m\u001b[0munsqueeze\u001b[0m\u001b[0;34m(\u001b[0m\u001b[0;34m-\u001b[0m\u001b[0;36m1\u001b[0m\u001b[0;34m)\u001b[0m\u001b[0;34m\u001b[0m\u001b[0;34m\u001b[0m\u001b[0m\n\u001b[0m\u001b[1;32m     51\u001b[0m \u001b[0;34m\u001b[0m\u001b[0m\n\u001b[1;32m     52\u001b[0m         \u001b[0msoftmax_mask\u001b[0m \u001b[0;34m=\u001b[0m \u001b[0matom_degree_list\u001b[0m\u001b[0;34m.\u001b[0m\u001b[0mclone\u001b[0m\u001b[0;34m(\u001b[0m\u001b[0;34m)\u001b[0m\u001b[0;34m\u001b[0m\u001b[0;34m\u001b[0m\u001b[0m\n",
      "\u001b[0;31mRuntimeError\u001b[0m: Cannot initialize CUDA without ATen_cuda library. PyTorch splits its backend into two shared libraries: a CPU library and a CUDA library; this error has occurred because you are trying to use some CUDA functionality, but the CUDA library has not been loaded by the dynamic linker for some reason.  The CUDA library MUST be loaded, EVEN IF you don't directly use any symbols from the CUDA library! One common culprit is a lack of -Wl,--no-as-needed in your link arguments; many dynamic linkers will delete dynamic library dependencies if you don't depend on any of their symbols.  You can check if this has occurred by using ldd on your binary to see if there is a dependency on *_cuda.so library."
     ]
    }
   ],
   "source": [
    "remain_pred_list = eval(model, remained_df)\n",
    "remained_df['Predicted_values'] = remain_pred_list\n",
    "remained_df"
   ]
  },
  {
   "cell_type": "code",
   "execution_count": 28,
   "id": "7b3cf2bb",
   "metadata": {},
   "outputs": [],
   "source": [
    "remained_df.to_csv('temp.csv')"
   ]
  },
  {
   "cell_type": "markdown",
   "id": "857b4e6a",
   "metadata": {},
   "source": [
    "# Step 5. Get atom attention weights"
   ]
  },
  {
   "cell_type": "code",
   "execution_count": 29,
   "id": "dc1c788b",
   "metadata": {},
   "outputs": [
    {
     "ename": "RuntimeError",
     "evalue": "Cannot initialize CUDA without ATen_cuda library. PyTorch splits its backend into two shared libraries: a CPU library and a CUDA library; this error has occurred because you are trying to use some CUDA functionality, but the CUDA library has not been loaded by the dynamic linker for some reason.  The CUDA library MUST be loaded, EVEN IF you don't directly use any symbols from the CUDA library! One common culprit is a lack of -Wl,--no-as-needed in your link arguments; many dynamic linkers will delete dynamic library dependencies if you don't depend on any of their symbols.  You can check if this has occurred by using ldd on your binary to see if there is a dependency on *_cuda.so library.",
     "output_type": "error",
     "traceback": [
      "\u001b[0;31m---------------------------------------------------------------------------\u001b[0m",
      "\u001b[0;31mRuntimeError\u001b[0m                              Traceback (most recent call last)",
      "\u001b[0;32m<ipython-input-29-142b74eae2a4>\u001b[0m in \u001b[0;36m<module>\u001b[0;34m\u001b[0m\n\u001b[1;32m      1\u001b[0m \u001b[0;31m# Notably: for more than 500 compounds, be cautious!\u001b[0m\u001b[0;34m\u001b[0m\u001b[0;34m\u001b[0m\u001b[0;34m\u001b[0m\u001b[0m\n\u001b[0;32m----> 2\u001b[0;31m \u001b[0msmi_aw\u001b[0m \u001b[0;34m=\u001b[0m \u001b[0mget_smi_aw\u001b[0m\u001b[0;34m(\u001b[0m\u001b[0mremained_df\u001b[0m\u001b[0;34m)\u001b[0m\u001b[0;34m\u001b[0m\u001b[0;34m\u001b[0m\u001b[0m\n\u001b[0m\u001b[1;32m      3\u001b[0m \u001b[0mlen\u001b[0m\u001b[0;34m(\u001b[0m\u001b[0msmi_aw\u001b[0m\u001b[0;34m)\u001b[0m\u001b[0;34m\u001b[0m\u001b[0;34m\u001b[0m\u001b[0m\n",
      "\u001b[0;32m<ipython-input-20-ba3c6741ea62>\u001b[0m in \u001b[0;36mget_smi_aw\u001b[0;34m(remained_df)\u001b[0m\n\u001b[1;32m     70\u001b[0m     \u001b[0mbatch_size\u001b[0m \u001b[0;34m=\u001b[0m \u001b[0mlen\u001b[0m\u001b[0;34m(\u001b[0m\u001b[0mremained_df\u001b[0m\u001b[0;34m.\u001b[0m\u001b[0mcano_smiles\u001b[0m\u001b[0;34m.\u001b[0m\u001b[0mvalues\u001b[0m\u001b[0;34m)\u001b[0m\u001b[0;34m\u001b[0m\u001b[0;34m\u001b[0m\u001b[0m\n\u001b[1;32m     71\u001b[0m     \u001b[0mtrain_df_smiles\u001b[0m \u001b[0;34m=\u001b[0m \u001b[0;34m[\u001b[0m\u001b[0mChem\u001b[0m\u001b[0;34m.\u001b[0m\u001b[0mMolToSmiles\u001b[0m\u001b[0;34m(\u001b[0m\u001b[0mChem\u001b[0m\u001b[0;34m.\u001b[0m\u001b[0mMolFromSmiles\u001b[0m\u001b[0;34m(\u001b[0m\u001b[0mremained_df\u001b[0m\u001b[0;34m.\u001b[0m\u001b[0mcano_smiles\u001b[0m\u001b[0;34m.\u001b[0m\u001b[0mvalues\u001b[0m\u001b[0;34m[\u001b[0m\u001b[0mm\u001b[0m\u001b[0;34m]\u001b[0m\u001b[0;34m)\u001b[0m\u001b[0;34m,\u001b[0m\u001b[0misomericSmiles\u001b[0m\u001b[0;34m=\u001b[0m\u001b[0;32mTrue\u001b[0m\u001b[0;34m)\u001b[0m \u001b[0;32mfor\u001b[0m \u001b[0mm\u001b[0m \u001b[0;32min\u001b[0m \u001b[0mrange\u001b[0m\u001b[0;34m(\u001b[0m\u001b[0;36m0\u001b[0m\u001b[0;34m,\u001b[0m\u001b[0mbatch_size\u001b[0m\u001b[0;34m)\u001b[0m\u001b[0;34m]\u001b[0m\u001b[0;34m\u001b[0m\u001b[0;34m\u001b[0m\u001b[0m\n\u001b[0;32m---> 72\u001b[0;31m     \u001b[0mmol_prediction_array\u001b[0m\u001b[0;34m,\u001b[0m \u001b[0matom_feature_array\u001b[0m\u001b[0;34m,\u001b[0m \u001b[0matom_weight_array\u001b[0m\u001b[0;34m,\u001b[0m \u001b[0mmol_feature_array\u001b[0m\u001b[0;34m,\u001b[0m \u001b[0mmol_feature_unbounded_array\u001b[0m \u001b[0;34m=\u001b[0m  \u001b[0meval_for_viz\u001b[0m\u001b[0;34m(\u001b[0m\u001b[0mmodel_for_viz\u001b[0m\u001b[0;34m,\u001b[0m \u001b[0mtrain_df_smiles\u001b[0m\u001b[0;34m,\u001b[0m\u001b[0mbatch_size\u001b[0m\u001b[0;34m)\u001b[0m\u001b[0;34m\u001b[0m\u001b[0;34m\u001b[0m\u001b[0m\n\u001b[0m\u001b[1;32m     73\u001b[0m     \u001b[0mx_atom\u001b[0m\u001b[0;34m,\u001b[0m \u001b[0mx_bonds\u001b[0m\u001b[0;34m,\u001b[0m \u001b[0mx_atom_index\u001b[0m\u001b[0;34m,\u001b[0m \u001b[0mx_bond_index\u001b[0m\u001b[0;34m,\u001b[0m \u001b[0mx_mask\u001b[0m\u001b[0;34m,\u001b[0m \u001b[0msmiles_to_rdkit_list\u001b[0m \u001b[0;34m=\u001b[0m \u001b[0mget_smiles_array\u001b[0m\u001b[0;34m(\u001b[0m\u001b[0mtrain_df_smiles\u001b[0m\u001b[0;34m,\u001b[0m\u001b[0mget_smiles_dicts\u001b[0m\u001b[0;34m(\u001b[0m\u001b[0mtrain_df_smiles\u001b[0m\u001b[0;34m)\u001b[0m\u001b[0;34m)\u001b[0m\u001b[0;34m\u001b[0m\u001b[0;34m\u001b[0m\u001b[0m\n\u001b[1;32m     74\u001b[0m     \u001b[0msmi_aw\u001b[0m \u001b[0;34m=\u001b[0m \u001b[0;34m{\u001b[0m\u001b[0;34m}\u001b[0m\u001b[0;34m\u001b[0m\u001b[0;34m\u001b[0m\u001b[0m\n",
      "\u001b[0;32m<ipython-input-20-ba3c6741ea62>\u001b[0m in \u001b[0;36meval_for_viz\u001b[0;34m(model, viz_list, batch_size)\u001b[0m\n\u001b[1;32m     18\u001b[0m             \u001b[0mtorch\u001b[0m\u001b[0;34m.\u001b[0m\u001b[0mLongTensor\u001b[0m\u001b[0;34m(\u001b[0m\u001b[0mx_atom_index\u001b[0m\u001b[0;34m)\u001b[0m\u001b[0;34m,\u001b[0m\u001b[0;34m\u001b[0m\u001b[0;34m\u001b[0m\u001b[0m\n\u001b[1;32m     19\u001b[0m             \u001b[0mtorch\u001b[0m\u001b[0;34m.\u001b[0m\u001b[0mLongTensor\u001b[0m\u001b[0;34m(\u001b[0m\u001b[0mx_bond_index\u001b[0m\u001b[0;34m)\u001b[0m\u001b[0;34m,\u001b[0m\u001b[0;34m\u001b[0m\u001b[0;34m\u001b[0m\u001b[0m\n\u001b[0;32m---> 20\u001b[0;31m             torch.Tensor(x_mask))\n\u001b[0m\u001b[1;32m     21\u001b[0m         \u001b[0;31m#print(mol_attention_weight_viz[1].cpu().detach().numpy())\u001b[0m\u001b[0;34m\u001b[0m\u001b[0;34m\u001b[0m\u001b[0;34m\u001b[0m\u001b[0m\n\u001b[1;32m     22\u001b[0m         \u001b[0mmol_prediction_list\u001b[0m\u001b[0;34m.\u001b[0m\u001b[0mappend\u001b[0m\u001b[0;34m(\u001b[0m\u001b[0mmol_prediction\u001b[0m\u001b[0;34m.\u001b[0m\u001b[0mcpu\u001b[0m\u001b[0;34m(\u001b[0m\u001b[0;34m)\u001b[0m\u001b[0;34m.\u001b[0m\u001b[0mdetach\u001b[0m\u001b[0;34m(\u001b[0m\u001b[0;34m)\u001b[0m\u001b[0;34m.\u001b[0m\u001b[0msqueeze\u001b[0m\u001b[0;34m(\u001b[0m\u001b[0;34m)\u001b[0m\u001b[0;34m.\u001b[0m\u001b[0mnumpy\u001b[0m\u001b[0;34m(\u001b[0m\u001b[0;34m)\u001b[0m\u001b[0;34m)\u001b[0m\u001b[0;34m\u001b[0m\u001b[0;34m\u001b[0m\u001b[0m\n",
      "\u001b[0;32m~/anaconda3/envs/IDL/lib/python3.7/site-packages/torch/nn/modules/module.py\u001b[0m in \u001b[0;36m__call__\u001b[0;34m(self, *input, **kwargs)\u001b[0m\n\u001b[1;32m    548\u001b[0m             \u001b[0mresult\u001b[0m \u001b[0;34m=\u001b[0m \u001b[0mself\u001b[0m\u001b[0;34m.\u001b[0m\u001b[0m_slow_forward\u001b[0m\u001b[0;34m(\u001b[0m\u001b[0;34m*\u001b[0m\u001b[0minput\u001b[0m\u001b[0;34m,\u001b[0m \u001b[0;34m**\u001b[0m\u001b[0mkwargs\u001b[0m\u001b[0;34m)\u001b[0m\u001b[0;34m\u001b[0m\u001b[0;34m\u001b[0m\u001b[0m\n\u001b[1;32m    549\u001b[0m         \u001b[0;32melse\u001b[0m\u001b[0;34m:\u001b[0m\u001b[0;34m\u001b[0m\u001b[0;34m\u001b[0m\u001b[0m\n\u001b[0;32m--> 550\u001b[0;31m             \u001b[0mresult\u001b[0m \u001b[0;34m=\u001b[0m \u001b[0mself\u001b[0m\u001b[0;34m.\u001b[0m\u001b[0mforward\u001b[0m\u001b[0;34m(\u001b[0m\u001b[0;34m*\u001b[0m\u001b[0minput\u001b[0m\u001b[0;34m,\u001b[0m \u001b[0;34m**\u001b[0m\u001b[0mkwargs\u001b[0m\u001b[0;34m)\u001b[0m\u001b[0;34m\u001b[0m\u001b[0;34m\u001b[0m\u001b[0m\n\u001b[0m\u001b[1;32m    551\u001b[0m         \u001b[0;32mfor\u001b[0m \u001b[0mhook\u001b[0m \u001b[0;32min\u001b[0m \u001b[0mself\u001b[0m\u001b[0;34m.\u001b[0m\u001b[0m_forward_hooks\u001b[0m\u001b[0;34m.\u001b[0m\u001b[0mvalues\u001b[0m\u001b[0;34m(\u001b[0m\u001b[0;34m)\u001b[0m\u001b[0;34m:\u001b[0m\u001b[0;34m\u001b[0m\u001b[0;34m\u001b[0m\u001b[0m\n\u001b[1;32m    552\u001b[0m             \u001b[0mhook_result\u001b[0m \u001b[0;34m=\u001b[0m \u001b[0mhook\u001b[0m\u001b[0;34m(\u001b[0m\u001b[0mself\u001b[0m\u001b[0;34m,\u001b[0m \u001b[0minput\u001b[0m\u001b[0;34m,\u001b[0m \u001b[0mresult\u001b[0m\u001b[0;34m)\u001b[0m\u001b[0;34m\u001b[0m\u001b[0;34m\u001b[0m\u001b[0m\n",
      "\u001b[0;32m~/anaconda3/envs/IDL-PPBot/IDL-Repo/IDL-PPBopt/Code/AttentiveFP/AttentiveLayers_viz.py\u001b[0m in \u001b[0;36mforward\u001b[0;34m(self, atom_list, bond_list, atom_degree_list, bond_degree_list, atom_mask)\u001b[0m\n\u001b[1;32m     50\u001b[0m         \u001b[0mattend_mask\u001b[0m\u001b[0;34m[\u001b[0m\u001b[0mattend_mask\u001b[0m \u001b[0;34m!=\u001b[0m \u001b[0mmol_length\u001b[0m\u001b[0;34m-\u001b[0m\u001b[0;36m1\u001b[0m\u001b[0;34m]\u001b[0m \u001b[0;34m=\u001b[0m \u001b[0;36m1\u001b[0m\u001b[0;34m\u001b[0m\u001b[0;34m\u001b[0m\u001b[0m\n\u001b[1;32m     51\u001b[0m         \u001b[0mattend_mask\u001b[0m\u001b[0;34m[\u001b[0m\u001b[0mattend_mask\u001b[0m \u001b[0;34m==\u001b[0m \u001b[0mmol_length\u001b[0m\u001b[0;34m-\u001b[0m\u001b[0;36m1\u001b[0m\u001b[0;34m]\u001b[0m \u001b[0;34m=\u001b[0m \u001b[0;36m0\u001b[0m\u001b[0;34m\u001b[0m\u001b[0;34m\u001b[0m\u001b[0m\n\u001b[0;32m---> 52\u001b[0;31m         \u001b[0mattend_mask\u001b[0m \u001b[0;34m=\u001b[0m \u001b[0mattend_mask\u001b[0m\u001b[0;34m.\u001b[0m\u001b[0mtype\u001b[0m\u001b[0;34m(\u001b[0m\u001b[0mtorch\u001b[0m\u001b[0;34m.\u001b[0m\u001b[0mcuda\u001b[0m\u001b[0;34m.\u001b[0m\u001b[0mFloatTensor\u001b[0m\u001b[0;34m)\u001b[0m\u001b[0;34m.\u001b[0m\u001b[0munsqueeze\u001b[0m\u001b[0;34m(\u001b[0m\u001b[0;34m-\u001b[0m\u001b[0;36m1\u001b[0m\u001b[0;34m)\u001b[0m\u001b[0;34m\u001b[0m\u001b[0;34m\u001b[0m\u001b[0m\n\u001b[0m\u001b[1;32m     53\u001b[0m \u001b[0;34m\u001b[0m\u001b[0m\n\u001b[1;32m     54\u001b[0m         \u001b[0msoftmax_mask\u001b[0m \u001b[0;34m=\u001b[0m \u001b[0matom_degree_list\u001b[0m\u001b[0;34m.\u001b[0m\u001b[0mclone\u001b[0m\u001b[0;34m(\u001b[0m\u001b[0;34m)\u001b[0m\u001b[0;34m\u001b[0m\u001b[0;34m\u001b[0m\u001b[0m\n",
      "\u001b[0;31mRuntimeError\u001b[0m: Cannot initialize CUDA without ATen_cuda library. PyTorch splits its backend into two shared libraries: a CPU library and a CUDA library; this error has occurred because you are trying to use some CUDA functionality, but the CUDA library has not been loaded by the dynamic linker for some reason.  The CUDA library MUST be loaded, EVEN IF you don't directly use any symbols from the CUDA library! One common culprit is a lack of -Wl,--no-as-needed in your link arguments; many dynamic linkers will delete dynamic library dependencies if you don't depend on any of their symbols.  You can check if this has occurred by using ldd on your binary to see if there is a dependency on *_cuda.so library."
     ]
    }
   ],
   "source": [
    "# Notably: for more than 500 compounds, be cautious!\n",
    "smi_aw = get_smi_aw(remained_df)\n",
    "len(smi_aw)"
   ]
  },
  {
   "cell_type": "markdown",
   "id": "903ed4af",
   "metadata": {},
   "source": [
    "# Step 6. Identify Privileged Substructure for each molecule"
   ]
  },
  {
   "cell_type": "code",
   "execution_count": 16,
   "id": "6e391378",
   "metadata": {
    "scrolled": true
   },
   "outputs": [
    {
     "name": "stdout",
     "output_type": "stream",
     "text": [
      "O=C(O)CC(c1ccccc1)n1ccc2cc(OCCc3ccc4c(n3)NCCC4)ccc21\n",
      "[]\n",
      "Predicted PPB fraction: 0.9707259\n",
      "Dectected Priviledged Substructures: []\n"
     ]
    },
    {
     "data": {
      "image/svg+xml": "<svg baseProfile=\"full\" height=\"700px\" version=\"1.1\" width=\"700px\" xml:space=\"preserve\" xmlns=\"http://www.w3.org/2000/svg\" xmlns:rdkit=\"http://www.rdkit.org/xml\" xmlns:xlink=\"http://www.w3.org/1999/xlink\">\n<rect height=\"700\" style=\"opacity:1.0;fill:#FFFFFF;stroke:none\" width=\"700\" x=\"0\" y=\"0\"> </rect>\n<ellipse cx=\"134.085\" cy=\"278.557\" rx=\"12.6326\" ry=\"12.6326\" style=\"fill:#FEE6CF;fill-rule:evenodd;stroke:#FEE6CF;stroke-width:1px;stroke-linecap:butt;stroke-linejoin:miter;stroke-opacity:1\"/>\n<ellipse cx=\"113.206\" cy=\"321.08\" rx=\"12.6326\" ry=\"12.6326\" style=\"fill:#FDBF87;fill-rule:evenodd;stroke:#FDBF87;stroke-width:1px;stroke-linecap:butt;stroke-linejoin:miter;stroke-opacity:1\"/>\n<ellipse cx=\"65.94\" cy=\"324.259\" rx=\"12.6326\" ry=\"12.6326\" style=\"fill:#FDD8B3;fill-rule:evenodd;stroke:#FDD8B3;stroke-width:1px;stroke-linecap:butt;stroke-linejoin:miter;stroke-opacity:1\"/>\n<ellipse cx=\"139.592\" cy=\"360.424\" rx=\"12.6326\" ry=\"12.6326\" style=\"fill:#FDAB67;fill-rule:evenodd;stroke:#FDAB67;stroke-width:1px;stroke-linecap:butt;stroke-linejoin:miter;stroke-opacity:1\"/>\n<ellipse cx=\"186.857\" cy=\"357.244\" rx=\"12.6326\" ry=\"12.6326\" style=\"fill:#FDD3A9;fill-rule:evenodd;stroke:#FDD3A9;stroke-width:1px;stroke-linecap:butt;stroke-linejoin:miter;stroke-opacity:1\"/>\n<ellipse cx=\"207.737\" cy=\"314.721\" rx=\"12.6326\" ry=\"12.6326\" style=\"fill:#FDAC68;fill-rule:evenodd;stroke:#FDAC68;stroke-width:1px;stroke-linecap:butt;stroke-linejoin:miter;stroke-opacity:1\"/>\n<ellipse cx=\"255.002\" cy=\"311.542\" rx=\"12.6326\" ry=\"12.6326\" style=\"fill:#FDD8B3;fill-rule:evenodd;stroke:#FDD8B3;stroke-width:1px;stroke-linecap:butt;stroke-linejoin:miter;stroke-opacity:1\"/>\n<ellipse cx=\"275.882\" cy=\"269.019\" rx=\"12.6326\" ry=\"12.6326\" style=\"fill:#FDDFC1;fill-rule:evenodd;stroke:#FDDFC1;stroke-width:1px;stroke-linecap:butt;stroke-linejoin:miter;stroke-opacity:1\"/>\n<ellipse cx=\"249.496\" cy=\"229.676\" rx=\"12.6326\" ry=\"12.6326\" style=\"fill:#FDE2C6;fill-rule:evenodd;stroke:#FDE2C6;stroke-width:1px;stroke-linecap:butt;stroke-linejoin:miter;stroke-opacity:1\"/>\n<ellipse cx=\"202.23\" cy=\"232.855\" rx=\"12.6326\" ry=\"12.6326\" style=\"fill:#FDDFC1;fill-rule:evenodd;stroke:#FDDFC1;stroke-width:1px;stroke-linecap:butt;stroke-linejoin:miter;stroke-opacity:1\"/>\n<ellipse cx=\"181.351\" cy=\"275.378\" rx=\"12.6326\" ry=\"12.6326\" style=\"fill:#FDD8B3;fill-rule:evenodd;stroke:#FDD8B3;stroke-width:1px;stroke-linecap:butt;stroke-linejoin:miter;stroke-opacity:1\"/>\n<ellipse cx=\"213.243\" cy=\"396.588\" rx=\"12.6326\" ry=\"12.6326\" style=\"fill:#FD984C;fill-rule:evenodd;stroke:#FD984C;stroke-width:1px;stroke-linecap:butt;stroke-linejoin:miter;stroke-opacity:1\"/>\n<ellipse cx=\"196.923\" cy=\"441.06\" rx=\"12.6326\" ry=\"12.6326\" style=\"fill:#FDB171;fill-rule:evenodd;stroke:#FDB171;stroke-width:1px;stroke-linecap:butt;stroke-linejoin:miter;stroke-opacity:1\"/>\n<ellipse cx=\"234.176\" cy=\"470.324\" rx=\"12.6326\" ry=\"12.6326\" style=\"fill:#FDC48E;fill-rule:evenodd;stroke:#FDC48E;stroke-width:1px;stroke-linecap:butt;stroke-linejoin:miter;stroke-opacity:1\"/>\n<ellipse cx=\"273.519\" cy=\"443.938\" rx=\"12.6326\" ry=\"12.6326\" style=\"fill:#FDAF6D;fill-rule:evenodd;stroke:#FDAF6D;stroke-width:1px;stroke-linecap:butt;stroke-linejoin:miter;stroke-opacity:1\"/>\n<ellipse cx=\"319.454\" cy=\"455.52\" rx=\"12.6326\" ry=\"12.6326\" style=\"fill:#FDD7B0;fill-rule:evenodd;stroke:#FDD7B0;stroke-width:1px;stroke-linecap:butt;stroke-linejoin:miter;stroke-opacity:1\"/>\n<ellipse cx=\"352.452\" cy=\"421.531\" rx=\"12.6326\" ry=\"12.6326\" style=\"fill:#FDB474;fill-rule:evenodd;stroke:#FDB474;stroke-width:1px;stroke-linecap:butt;stroke-linejoin:miter;stroke-opacity:1\"/>\n<ellipse cx=\"398.387\" cy=\"433.113\" rx=\"12.6326\" ry=\"12.6326\" style=\"fill:#FEF4E9;fill-rule:evenodd;stroke:#FEF4E9;stroke-width:1px;stroke-linecap:butt;stroke-linejoin:miter;stroke-opacity:1\"/>\n<ellipse cx=\"431.384\" cy=\"399.123\" rx=\"12.6326\" ry=\"12.6326\" style=\"fill:#FDBD84;fill-rule:evenodd;stroke:#FDBD84;stroke-width:1px;stroke-linecap:butt;stroke-linejoin:miter;stroke-opacity:1\"/>\n<ellipse cx=\"477.319\" cy=\"410.705\" rx=\"12.6326\" ry=\"12.6326\" style=\"fill:#FDE1C5;fill-rule:evenodd;stroke:#FDE1C5;stroke-width:1px;stroke-linecap:butt;stroke-linejoin:miter;stroke-opacity:1\"/>\n<ellipse cx=\"510.317\" cy=\"376.716\" rx=\"12.6326\" ry=\"12.6326\" style=\"fill:#FDB272;fill-rule:evenodd;stroke:#FDB272;stroke-width:1px;stroke-linecap:butt;stroke-linejoin:miter;stroke-opacity:1\"/>\n<ellipse cx=\"497.38\" cy=\"331.144\" rx=\"12.6326\" ry=\"12.6326\" style=\"fill:#FDCB9A;fill-rule:evenodd;stroke:#FDCB9A;stroke-width:1px;stroke-linecap:butt;stroke-linejoin:miter;stroke-opacity:1\"/>\n<ellipse cx=\"530.378\" cy=\"297.155\" rx=\"12.6326\" ry=\"12.6326\" style=\"fill:#FDD6AF;fill-rule:evenodd;stroke:#FDD6AF;stroke-width:1px;stroke-linecap:butt;stroke-linejoin:miter;stroke-opacity:1\"/>\n<ellipse cx=\"576.312\" cy=\"308.737\" rx=\"12.6326\" ry=\"12.6326\" style=\"fill:#FDAF6D;fill-rule:evenodd;stroke:#FDAF6D;stroke-width:1px;stroke-linecap:butt;stroke-linejoin:miter;stroke-opacity:1\"/>\n<ellipse cx=\"589.249\" cy=\"354.309\" rx=\"12.6326\" ry=\"12.6326\" style=\"fill:#FDD7B0;fill-rule:evenodd;stroke:#FDD7B0;stroke-width:1px;stroke-linecap:butt;stroke-linejoin:miter;stroke-opacity:1\"/>\n<ellipse cx=\"556.252\" cy=\"388.298\" rx=\"12.6326\" ry=\"12.6326\" style=\"fill:#FDD4AB;fill-rule:evenodd;stroke:#FDD4AB;stroke-width:1px;stroke-linecap:butt;stroke-linejoin:miter;stroke-opacity:1\"/>\n<ellipse cx=\"635.184\" cy=\"365.891\" rx=\"12.6326\" ry=\"12.6326\" style=\"fill:#CB4301;fill-rule:evenodd;stroke:#CB4301;stroke-width:1px;stroke-linecap:butt;stroke-linejoin:miter;stroke-opacity:1\"/>\n<ellipse cx=\"668.182\" cy=\"331.901\" rx=\"12.6326\" ry=\"12.6326\" style=\"fill:#FEF4E9;fill-rule:evenodd;stroke:#FEF4E9;stroke-width:1px;stroke-linecap:butt;stroke-linejoin:miter;stroke-opacity:1\"/>\n<ellipse cx=\"655.245\" cy=\"286.329\" rx=\"12.6326\" ry=\"12.6326\" style=\"fill:#FDC793;fill-rule:evenodd;stroke:#FDC793;stroke-width:1px;stroke-linecap:butt;stroke-linejoin:miter;stroke-opacity:1\"/>\n<ellipse cx=\"609.31\" cy=\"274.747\" rx=\"12.6326\" ry=\"12.6326\" style=\"fill:#FFF5EB;fill-rule:evenodd;stroke:#FFF5EB;stroke-width:1px;stroke-linecap:butt;stroke-linejoin:miter;stroke-opacity:1\"/>\n<ellipse cx=\"339.515\" cy=\"375.959\" rx=\"12.6326\" ry=\"12.6326\" style=\"fill:#FDD6AF;fill-rule:evenodd;stroke:#FDD6AF;stroke-width:1px;stroke-linecap:butt;stroke-linejoin:miter;stroke-opacity:1\"/>\n<ellipse cx=\"293.58\" cy=\"364.377\" rx=\"12.6326\" ry=\"12.6326\" style=\"fill:#FDC692;fill-rule:evenodd;stroke:#FDC692;stroke-width:1px;stroke-linecap:butt;stroke-linejoin:miter;stroke-opacity:1\"/>\n<ellipse cx=\"260.582\" cy=\"398.366\" rx=\"12.6326\" ry=\"12.6326\" style=\"fill:#FDC895;fill-rule:evenodd;stroke:#FDC895;stroke-width:1px;stroke-linecap:butt;stroke-linejoin:miter;stroke-opacity:1\"/>\n<path d=\"M 125.181,285.944 117.067,302.468\" style=\"fill:none;fill-rule:evenodd;stroke:#FF0000;stroke-width:2px;stroke-linecap:butt;stroke-linejoin:miter;stroke-opacity:1\"/>\n<path d=\"M 117.067,302.468 108.953,318.992\" style=\"fill:none;fill-rule:evenodd;stroke:#000000;stroke-width:2px;stroke-linecap:butt;stroke-linejoin:miter;stroke-opacity:1\"/>\n<path d=\"M 133.685,290.12 125.571,306.644\" style=\"fill:none;fill-rule:evenodd;stroke:#FF0000;stroke-width:2px;stroke-linecap:butt;stroke-linejoin:miter;stroke-opacity:1\"/>\n<path d=\"M 125.571,306.644 117.458,323.168\" style=\"fill:none;fill-rule:evenodd;stroke:#000000;stroke-width:2px;stroke-linecap:butt;stroke-linejoin:miter;stroke-opacity:1\"/>\n<path d=\"M 113.206,321.08 98.1032,322.096\" style=\"fill:none;fill-rule:evenodd;stroke:#000000;stroke-width:2px;stroke-linecap:butt;stroke-linejoin:miter;stroke-opacity:1\"/>\n<path d=\"M 98.1032,322.096 83.0008,323.112\" style=\"fill:none;fill-rule:evenodd;stroke:#FF0000;stroke-width:2px;stroke-linecap:butt;stroke-linejoin:miter;stroke-opacity:1\"/>\n<path d=\"M 113.206,321.08 139.592,360.424\" style=\"fill:none;fill-rule:evenodd;stroke:#000000;stroke-width:2px;stroke-linecap:butt;stroke-linejoin:miter;stroke-opacity:1\"/>\n<path d=\"M 139.592,360.424 186.857,357.244\" style=\"fill:none;fill-rule:evenodd;stroke:#000000;stroke-width:2px;stroke-linecap:butt;stroke-linejoin:miter;stroke-opacity:1\"/>\n<path d=\"M 186.857,357.244 207.737,314.721\" style=\"fill:none;fill-rule:evenodd;stroke:#000000;stroke-width:2px;stroke-linecap:butt;stroke-linejoin:miter;stroke-opacity:1\"/>\n<path d=\"M 186.857,357.244 196.873,372.179\" style=\"fill:none;fill-rule:evenodd;stroke:#000000;stroke-width:2px;stroke-linecap:butt;stroke-linejoin:miter;stroke-opacity:1\"/>\n<path d=\"M 196.873,372.179 206.889,387.113\" style=\"fill:none;fill-rule:evenodd;stroke:#0000FF;stroke-width:2px;stroke-linecap:butt;stroke-linejoin:miter;stroke-opacity:1\"/>\n<path d=\"M 207.737,314.721 255.002,311.542\" style=\"fill:none;fill-rule:evenodd;stroke:#000000;stroke-width:2px;stroke-linecap:butt;stroke-linejoin:miter;stroke-opacity:1\"/>\n<path d=\"M 214.191,304.791 247.277,302.566\" style=\"fill:none;fill-rule:evenodd;stroke:#000000;stroke-width:2px;stroke-linecap:butt;stroke-linejoin:miter;stroke-opacity:1\"/>\n<path d=\"M 207.737,314.721 181.351,275.378\" style=\"fill:none;fill-rule:evenodd;stroke:#000000;stroke-width:2px;stroke-linecap:butt;stroke-linejoin:miter;stroke-opacity:1\"/>\n<path d=\"M 255.002,311.542 275.882,269.019\" style=\"fill:none;fill-rule:evenodd;stroke:#000000;stroke-width:2px;stroke-linecap:butt;stroke-linejoin:miter;stroke-opacity:1\"/>\n<path d=\"M 275.882,269.019 249.496,229.676\" style=\"fill:none;fill-rule:evenodd;stroke:#000000;stroke-width:2px;stroke-linecap:butt;stroke-linejoin:miter;stroke-opacity:1\"/>\n<path d=\"M 264.055,268.395 245.585,240.854\" style=\"fill:none;fill-rule:evenodd;stroke:#000000;stroke-width:2px;stroke-linecap:butt;stroke-linejoin:miter;stroke-opacity:1\"/>\n<path d=\"M 249.496,229.676 202.23,232.855\" style=\"fill:none;fill-rule:evenodd;stroke:#000000;stroke-width:2px;stroke-linecap:butt;stroke-linejoin:miter;stroke-opacity:1\"/>\n<path d=\"M 202.23,232.855 181.351,275.378\" style=\"fill:none;fill-rule:evenodd;stroke:#000000;stroke-width:2px;stroke-linecap:butt;stroke-linejoin:miter;stroke-opacity:1\"/>\n<path d=\"M 207.603,243.409 192.987,273.175\" style=\"fill:none;fill-rule:evenodd;stroke:#000000;stroke-width:2px;stroke-linecap:butt;stroke-linejoin:miter;stroke-opacity:1\"/>\n<path d=\"M 209.767,406.062 203.345,423.561\" style=\"fill:none;fill-rule:evenodd;stroke:#0000FF;stroke-width:2px;stroke-linecap:butt;stroke-linejoin:miter;stroke-opacity:1\"/>\n<path d=\"M 203.345,423.561 196.923,441.06\" style=\"fill:none;fill-rule:evenodd;stroke:#000000;stroke-width:2px;stroke-linecap:butt;stroke-linejoin:miter;stroke-opacity:1\"/>\n<path d=\"M 221.455,396.896 241.019,397.631\" style=\"fill:none;fill-rule:evenodd;stroke:#0000FF;stroke-width:2px;stroke-linecap:butt;stroke-linejoin:miter;stroke-opacity:1\"/>\n<path d=\"M 241.019,397.631 260.582,398.366\" style=\"fill:none;fill-rule:evenodd;stroke:#000000;stroke-width:2px;stroke-linecap:butt;stroke-linejoin:miter;stroke-opacity:1\"/>\n<path d=\"M 196.923,441.06 234.176,470.324\" style=\"fill:none;fill-rule:evenodd;stroke:#000000;stroke-width:2px;stroke-linecap:butt;stroke-linejoin:miter;stroke-opacity:1\"/>\n<path d=\"M 208.364,437.999 234.441,458.484\" style=\"fill:none;fill-rule:evenodd;stroke:#000000;stroke-width:2px;stroke-linecap:butt;stroke-linejoin:miter;stroke-opacity:1\"/>\n<path d=\"M 234.176,470.324 273.519,443.938\" style=\"fill:none;fill-rule:evenodd;stroke:#000000;stroke-width:2px;stroke-linecap:butt;stroke-linejoin:miter;stroke-opacity:1\"/>\n<path d=\"M 273.519,443.938 319.454,455.52\" style=\"fill:none;fill-rule:evenodd;stroke:#000000;stroke-width:2px;stroke-linecap:butt;stroke-linejoin:miter;stroke-opacity:1\"/>\n<path d=\"M 282.726,436.489 314.88,444.596\" style=\"fill:none;fill-rule:evenodd;stroke:#000000;stroke-width:2px;stroke-linecap:butt;stroke-linejoin:miter;stroke-opacity:1\"/>\n<path d=\"M 273.519,443.938 260.582,398.366\" style=\"fill:none;fill-rule:evenodd;stroke:#000000;stroke-width:2px;stroke-linecap:butt;stroke-linejoin:miter;stroke-opacity:1\"/>\n<path d=\"M 319.454,455.52 352.452,421.531\" style=\"fill:none;fill-rule:evenodd;stroke:#000000;stroke-width:2px;stroke-linecap:butt;stroke-linejoin:miter;stroke-opacity:1\"/>\n<path d=\"M 352.452,421.531 370.995,426.206\" style=\"fill:none;fill-rule:evenodd;stroke:#000000;stroke-width:2px;stroke-linecap:butt;stroke-linejoin:miter;stroke-opacity:1\"/>\n<path d=\"M 370.995,426.206 389.538,430.882\" style=\"fill:none;fill-rule:evenodd;stroke:#FF0000;stroke-width:2px;stroke-linecap:butt;stroke-linejoin:miter;stroke-opacity:1\"/>\n<path d=\"M 352.452,421.531 339.515,375.959\" style=\"fill:none;fill-rule:evenodd;stroke:#000000;stroke-width:2px;stroke-linecap:butt;stroke-linejoin:miter;stroke-opacity:1\"/>\n<path d=\"M 341.397,417.282 332.341,385.382\" style=\"fill:none;fill-rule:evenodd;stroke:#000000;stroke-width:2px;stroke-linecap:butt;stroke-linejoin:miter;stroke-opacity:1\"/>\n<path d=\"M 407.235,423.998 419.31,411.561\" style=\"fill:none;fill-rule:evenodd;stroke:#FF0000;stroke-width:2px;stroke-linecap:butt;stroke-linejoin:miter;stroke-opacity:1\"/>\n<path d=\"M 419.31,411.561 431.384,399.123\" style=\"fill:none;fill-rule:evenodd;stroke:#000000;stroke-width:2px;stroke-linecap:butt;stroke-linejoin:miter;stroke-opacity:1\"/>\n<path d=\"M 431.384,399.123 477.319,410.705\" style=\"fill:none;fill-rule:evenodd;stroke:#000000;stroke-width:2px;stroke-linecap:butt;stroke-linejoin:miter;stroke-opacity:1\"/>\n<path d=\"M 477.319,410.705 510.317,376.716\" style=\"fill:none;fill-rule:evenodd;stroke:#000000;stroke-width:2px;stroke-linecap:butt;stroke-linejoin:miter;stroke-opacity:1\"/>\n<path d=\"M 510.317,376.716 497.38,331.144\" style=\"fill:none;fill-rule:evenodd;stroke:#000000;stroke-width:2px;stroke-linecap:butt;stroke-linejoin:miter;stroke-opacity:1\"/>\n<path d=\"M 517.491,367.293 508.435,335.393\" style=\"fill:none;fill-rule:evenodd;stroke:#000000;stroke-width:2px;stroke-linecap:butt;stroke-linejoin:miter;stroke-opacity:1\"/>\n<path d=\"M 510.317,376.716 529.178,381.472\" style=\"fill:none;fill-rule:evenodd;stroke:#000000;stroke-width:2px;stroke-linecap:butt;stroke-linejoin:miter;stroke-opacity:1\"/>\n<path d=\"M 529.178,381.472 548.04,386.227\" style=\"fill:none;fill-rule:evenodd;stroke:#0000FF;stroke-width:2px;stroke-linecap:butt;stroke-linejoin:miter;stroke-opacity:1\"/>\n<path d=\"M 497.38,331.144 530.378,297.155\" style=\"fill:none;fill-rule:evenodd;stroke:#000000;stroke-width:2px;stroke-linecap:butt;stroke-linejoin:miter;stroke-opacity:1\"/>\n<path d=\"M 530.378,297.155 576.312,308.737\" style=\"fill:none;fill-rule:evenodd;stroke:#000000;stroke-width:2px;stroke-linecap:butt;stroke-linejoin:miter;stroke-opacity:1\"/>\n<path d=\"M 534.951,308.079 567.106,316.186\" style=\"fill:none;fill-rule:evenodd;stroke:#000000;stroke-width:2px;stroke-linecap:butt;stroke-linejoin:miter;stroke-opacity:1\"/>\n<path d=\"M 576.312,308.737 589.249,354.309\" style=\"fill:none;fill-rule:evenodd;stroke:#000000;stroke-width:2px;stroke-linecap:butt;stroke-linejoin:miter;stroke-opacity:1\"/>\n<path d=\"M 576.312,308.737 609.31,274.747\" style=\"fill:none;fill-rule:evenodd;stroke:#000000;stroke-width:2px;stroke-linecap:butt;stroke-linejoin:miter;stroke-opacity:1\"/>\n<path d=\"M 589.249,354.309 576.856,367.074\" style=\"fill:none;fill-rule:evenodd;stroke:#000000;stroke-width:2px;stroke-linecap:butt;stroke-linejoin:miter;stroke-opacity:1\"/>\n<path d=\"M 576.856,367.074 564.464,379.839\" style=\"fill:none;fill-rule:evenodd;stroke:#0000FF;stroke-width:2px;stroke-linecap:butt;stroke-linejoin:miter;stroke-opacity:1\"/>\n<path d=\"M 578.734,351.539 570.059,360.474\" style=\"fill:none;fill-rule:evenodd;stroke:#000000;stroke-width:2px;stroke-linecap:butt;stroke-linejoin:miter;stroke-opacity:1\"/>\n<path d=\"M 570.059,360.474 561.383,369.41\" style=\"fill:none;fill-rule:evenodd;stroke:#0000FF;stroke-width:2px;stroke-linecap:butt;stroke-linejoin:miter;stroke-opacity:1\"/>\n<path d=\"M 589.249,354.309 604.005,358.029\" style=\"fill:none;fill-rule:evenodd;stroke:#000000;stroke-width:2px;stroke-linecap:butt;stroke-linejoin:miter;stroke-opacity:1\"/>\n<path d=\"M 604.005,358.029 618.76,361.749\" style=\"fill:none;fill-rule:evenodd;stroke:#0000FF;stroke-width:2px;stroke-linecap:butt;stroke-linejoin:miter;stroke-opacity:1\"/>\n<path d=\"M 644.382,356.416 656.282,344.159\" style=\"fill:none;fill-rule:evenodd;stroke:#0000FF;stroke-width:2px;stroke-linecap:butt;stroke-linejoin:miter;stroke-opacity:1\"/>\n<path d=\"M 656.282,344.159 668.182,331.901\" style=\"fill:none;fill-rule:evenodd;stroke:#000000;stroke-width:2px;stroke-linecap:butt;stroke-linejoin:miter;stroke-opacity:1\"/>\n<path d=\"M 668.182,331.901 655.245,286.329\" style=\"fill:none;fill-rule:evenodd;stroke:#000000;stroke-width:2px;stroke-linecap:butt;stroke-linejoin:miter;stroke-opacity:1\"/>\n<path d=\"M 655.245,286.329 609.31,274.747\" style=\"fill:none;fill-rule:evenodd;stroke:#000000;stroke-width:2px;stroke-linecap:butt;stroke-linejoin:miter;stroke-opacity:1\"/>\n<path d=\"M 339.515,375.959 293.58,364.377\" style=\"fill:none;fill-rule:evenodd;stroke:#000000;stroke-width:2px;stroke-linecap:butt;stroke-linejoin:miter;stroke-opacity:1\"/>\n<path d=\"M 293.58,364.377 260.582,398.366\" style=\"fill:none;fill-rule:evenodd;stroke:#000000;stroke-width:2px;stroke-linecap:butt;stroke-linejoin:miter;stroke-opacity:1\"/>\n<path d=\"M 295.428,376.075 272.33,399.868\" style=\"fill:none;fill-rule:evenodd;stroke:#000000;stroke-width:2px;stroke-linecap:butt;stroke-linejoin:miter;stroke-opacity:1\"/>\n<text style=\"font-size:18px;font-style:normal;font-weight:normal;fill-opacity:1;stroke:none;font-family:sans-serif;text-anchor:start;fill:#FF0000\" x=\"125.236\" y=\"288.032\"><tspan>O</tspan></text>\n<text style=\"font-size:18px;font-style:normal;font-weight:normal;fill-opacity:1;stroke:none;font-family:sans-serif;text-anchor:start;fill:#FF0000\" x=\"48.8791\" y=\"333.734\"><tspan>HO</tspan></text>\n<text style=\"font-size:18px;font-style:normal;font-weight:normal;fill-opacity:1;stroke:none;font-family:sans-serif;text-anchor:start;fill:#0000FF\" x=\"205.031\" y=\"406.062\"><tspan>N</tspan></text>\n<text style=\"font-size:18px;font-style:normal;font-weight:normal;fill-opacity:1;stroke:none;font-family:sans-serif;text-anchor:start;fill:#FF0000\" x=\"389.538\" y=\"442.587\"><tspan>O</tspan></text>\n<text style=\"font-size:18px;font-style:normal;font-weight:normal;fill-opacity:1;stroke:none;font-family:sans-serif;text-anchor:start;fill:#0000FF\" x=\"548.04\" y=\"397.773\"><tspan>N</tspan></text>\n<text style=\"font-size:18px;font-style:normal;font-weight:normal;fill-opacity:1;stroke:none;font-family:sans-serif;text-anchor:start;fill:#0000FF\" x=\"618.76\" y=\"375.365\"><tspan>NH</tspan></text>\n</svg>",
      "text/plain": [
       "<IPython.core.display.SVG object>"
      ]
     },
     "metadata": {},
     "output_type": "display_data"
    },
    {
     "name": "stdout",
     "output_type": "stream",
     "text": [
      "CN(C)Cc1cncc(C(CC(=O)O)n2ccc3cc(OCCc4ccc5c(n4)NCCC5)ccc32)c1\n",
      "['*Cc1cncc(C(C*)*)c1']\n",
      "Predicted PPB fraction: 0.8506336\n",
      "Dectected Priviledged Substructures: ['*Cc1cncc(C(C*)*)c1']\n"
     ]
    },
    {
     "data": {
      "image/svg+xml": "<svg baseProfile=\"full\" height=\"700px\" version=\"1.1\" width=\"700px\" xml:space=\"preserve\" xmlns=\"http://www.w3.org/2000/svg\" xmlns:rdkit=\"http://www.rdkit.org/xml\" xmlns:xlink=\"http://www.w3.org/1999/xlink\">\n<rect height=\"700\" style=\"opacity:1.0;fill:#FFFFFF;stroke:none\" width=\"700\" x=\"0\" y=\"0\"> </rect>\n<path d=\"M 173.921,211.016 158.669,256.195\" style=\"fill:none;fill-rule:evenodd;stroke:#CC0000;stroke-width:16px;stroke-linecap:butt;stroke-linejoin:miter;stroke-opacity:1\"/>\n<path d=\"M 158.669,256.195 190.17,291.992\" style=\"fill:none;fill-rule:evenodd;stroke:#CC0000;stroke-width:16px;stroke-linecap:butt;stroke-linejoin:miter;stroke-opacity:1\"/>\n<path d=\"M 190.17,291.992 236.921,282.611\" style=\"fill:none;fill-rule:evenodd;stroke:#CC0000;stroke-width:16px;stroke-linecap:butt;stroke-linejoin:miter;stroke-opacity:1\"/>\n<path d=\"M 190.17,291.992 174.919,337.171\" style=\"fill:none;fill-rule:evenodd;stroke:#CC0000;stroke-width:16px;stroke-linecap:butt;stroke-linejoin:miter;stroke-opacity:1\"/>\n<path d=\"M 236.921,282.611 268.422,318.408\" style=\"fill:none;fill-rule:evenodd;stroke:#CC0000;stroke-width:16px;stroke-linecap:butt;stroke-linejoin:miter;stroke-opacity:1\"/>\n<path d=\"M 268.422,318.408 253.17,363.587\" style=\"fill:none;fill-rule:evenodd;stroke:#CC0000;stroke-width:16px;stroke-linecap:butt;stroke-linejoin:miter;stroke-opacity:1\"/>\n<path d=\"M 253.17,363.587 206.419,372.968\" style=\"fill:none;fill-rule:evenodd;stroke:#CC0000;stroke-width:16px;stroke-linecap:butt;stroke-linejoin:miter;stroke-opacity:1\"/>\n<path d=\"M 206.419,372.968 191.168,418.147\" style=\"fill:none;fill-rule:evenodd;stroke:#CC0000;stroke-width:16px;stroke-linecap:butt;stroke-linejoin:miter;stroke-opacity:1\"/>\n<path d=\"M 206.419,372.968 174.919,337.171\" style=\"fill:none;fill-rule:evenodd;stroke:#CC0000;stroke-width:16px;stroke-linecap:butt;stroke-linejoin:miter;stroke-opacity:1\"/>\n<path d=\"M 191.168,418.147 144.416,427.529\" style=\"fill:none;fill-rule:evenodd;stroke:#CC0000;stroke-width:16px;stroke-linecap:butt;stroke-linejoin:miter;stroke-opacity:1\"/>\n<path d=\"M 191.168,418.147 222.668,453.945\" style=\"fill:none;fill-rule:evenodd;stroke:#CC0000;stroke-width:16px;stroke-linecap:butt;stroke-linejoin:miter;stroke-opacity:1\"/>\n<path d=\"M 144.416,427.529 112.916,391.731\" style=\"fill:none;fill-rule:evenodd;stroke:#CC0000;stroke-width:16px;stroke-linecap:butt;stroke-linejoin:miter;stroke-opacity:1\"/>\n<ellipse cx=\"142.42\" cy=\"175.219\" rx=\"12.7156\" ry=\"12.7156\" style=\"fill:#FFF5EB;fill-rule:evenodd;stroke:#FFF5EB;stroke-width:1px;stroke-linecap:butt;stroke-linejoin:miter;stroke-opacity:1\"/>\n<ellipse cx=\"173.921\" cy=\"211.016\" rx=\"12.7156\" ry=\"12.7156\" style=\"fill:#F16A14;fill-rule:evenodd;stroke:#F16A14;stroke-width:1px;stroke-linecap:butt;stroke-linejoin:miter;stroke-opacity:1\"/>\n<ellipse cx=\"220.672\" cy=\"201.635\" rx=\"12.7156\" ry=\"12.7156\" style=\"fill:#FFF5EB;fill-rule:evenodd;stroke:#FFF5EB;stroke-width:1px;stroke-linecap:butt;stroke-linejoin:miter;stroke-opacity:1\"/>\n<ellipse cx=\"158.669\" cy=\"256.195\" rx=\"12.7156\" ry=\"12.7156\" style=\"fill:#FDD6AF;fill-rule:evenodd;stroke:#FDD6AF;stroke-width:1px;stroke-linecap:butt;stroke-linejoin:miter;stroke-opacity:1\"/>\n<ellipse cx=\"190.17\" cy=\"291.992\" rx=\"12.7156\" ry=\"12.7156\" style=\"fill:#FB8937;fill-rule:evenodd;stroke:#FB8937;stroke-width:1px;stroke-linecap:butt;stroke-linejoin:miter;stroke-opacity:1\"/>\n<ellipse cx=\"236.921\" cy=\"282.611\" rx=\"12.7156\" ry=\"12.7156\" style=\"fill:#FD9F55;fill-rule:evenodd;stroke:#FD9F55;stroke-width:1px;stroke-linecap:butt;stroke-linejoin:miter;stroke-opacity:1\"/>\n<ellipse cx=\"268.422\" cy=\"318.408\" rx=\"12.7156\" ry=\"12.7156\" style=\"fill:#F3701B;fill-rule:evenodd;stroke:#F3701B;stroke-width:1px;stroke-linecap:butt;stroke-linejoin:miter;stroke-opacity:1\"/>\n<ellipse cx=\"253.17\" cy=\"363.587\" rx=\"12.7156\" ry=\"12.7156\" style=\"fill:#FD9E54;fill-rule:evenodd;stroke:#FD9E54;stroke-width:1px;stroke-linecap:butt;stroke-linejoin:miter;stroke-opacity:1\"/>\n<ellipse cx=\"206.419\" cy=\"372.968\" rx=\"12.7156\" ry=\"12.7156\" style=\"fill:#FD9041;fill-rule:evenodd;stroke:#FD9041;stroke-width:1px;stroke-linecap:butt;stroke-linejoin:miter;stroke-opacity:1\"/>\n<ellipse cx=\"191.168\" cy=\"418.147\" rx=\"12.7156\" ry=\"12.7156\" style=\"fill:#FDAE6C;fill-rule:evenodd;stroke:#FDAE6C;stroke-width:1px;stroke-linecap:butt;stroke-linejoin:miter;stroke-opacity:1\"/>\n<ellipse cx=\"144.416\" cy=\"427.529\" rx=\"12.7156\" ry=\"12.7156\" style=\"fill:#FD9041;fill-rule:evenodd;stroke:#FD9041;stroke-width:1px;stroke-linecap:butt;stroke-linejoin:miter;stroke-opacity:1\"/>\n<ellipse cx=\"112.916\" cy=\"391.731\" rx=\"12.7156\" ry=\"12.7156\" style=\"fill:#FD9F55;fill-rule:evenodd;stroke:#FD9F55;stroke-width:1px;stroke-linecap:butt;stroke-linejoin:miter;stroke-opacity:1\"/>\n<ellipse cx=\"128.167\" cy=\"346.552\" rx=\"12.7156\" ry=\"12.7156\" style=\"fill:#FDC590;fill-rule:evenodd;stroke:#FDC590;stroke-width:1px;stroke-linecap:butt;stroke-linejoin:miter;stroke-opacity:1\"/>\n<ellipse cx=\"66.1641\" cy=\"401.113\" rx=\"12.7156\" ry=\"12.7156\" style=\"fill:#FDB474;fill-rule:evenodd;stroke:#FDB474;stroke-width:1px;stroke-linecap:butt;stroke-linejoin:miter;stroke-opacity:1\"/>\n<ellipse cx=\"222.668\" cy=\"453.945\" rx=\"12.7156\" ry=\"12.7156\" style=\"fill:#F9812E;fill-rule:evenodd;stroke:#F9812E;stroke-width:1px;stroke-linecap:butt;stroke-linejoin:miter;stroke-opacity:1\"/>\n<ellipse cx=\"212.223\" cy=\"500.47\" rx=\"12.7156\" ry=\"12.7156\" style=\"fill:#FD9447;fill-rule:evenodd;stroke:#FD9447;stroke-width:1px;stroke-linecap:butt;stroke-linejoin:miter;stroke-opacity:1\"/>\n<ellipse cx=\"253.243\" cy=\"524.781\" rx=\"12.7156\" ry=\"12.7156\" style=\"fill:#FDA158;fill-rule:evenodd;stroke:#FDA158;stroke-width:1px;stroke-linecap:butt;stroke-linejoin:miter;stroke-opacity:1\"/>\n<ellipse cx=\"289.041\" cy=\"493.281\" rx=\"12.7156\" ry=\"12.7156\" style=\"fill:#FD9345;fill-rule:evenodd;stroke:#FD9345;stroke-width:1px;stroke-linecap:butt;stroke-linejoin:miter;stroke-opacity:1\"/>\n<ellipse cx=\"336.403\" cy=\"498.806\" rx=\"12.7156\" ry=\"12.7156\" style=\"fill:#FDB171;fill-rule:evenodd;stroke:#FDB171;stroke-width:1px;stroke-linecap:butt;stroke-linejoin:miter;stroke-opacity:1\"/>\n<ellipse cx=\"364.869\" cy=\"460.551\" rx=\"12.7156\" ry=\"12.7156\" style=\"fill:#FD9548;fill-rule:evenodd;stroke:#FD9548;stroke-width:1px;stroke-linecap:butt;stroke-linejoin:miter;stroke-opacity:1\"/>\n<ellipse cx=\"412.231\" cy=\"466.076\" rx=\"12.7156\" ry=\"12.7156\" style=\"fill:#FDD6AF;fill-rule:evenodd;stroke:#FDD6AF;stroke-width:1px;stroke-linecap:butt;stroke-linejoin:miter;stroke-opacity:1\"/>\n<ellipse cx=\"440.697\" cy=\"427.821\" rx=\"12.7156\" ry=\"12.7156\" style=\"fill:#FD9D52;fill-rule:evenodd;stroke:#FD9D52;stroke-width:1px;stroke-linecap:butt;stroke-linejoin:miter;stroke-opacity:1\"/>\n<ellipse cx=\"488.06\" cy=\"433.346\" rx=\"12.7156\" ry=\"12.7156\" style=\"fill:#FDBD84;fill-rule:evenodd;stroke:#FDBD84;stroke-width:1px;stroke-linecap:butt;stroke-linejoin:miter;stroke-opacity:1\"/>\n<ellipse cx=\"516.525\" cy=\"395.091\" rx=\"12.7156\" ry=\"12.7156\" style=\"fill:#FD9447;fill-rule:evenodd;stroke:#FD9447;stroke-width:1px;stroke-linecap:butt;stroke-linejoin:miter;stroke-opacity:1\"/>\n<ellipse cx=\"497.629\" cy=\"351.312\" rx=\"12.7156\" ry=\"12.7156\" style=\"fill:#FDA761;fill-rule:evenodd;stroke:#FDA761;stroke-width:1px;stroke-linecap:butt;stroke-linejoin:miter;stroke-opacity:1\"/>\n<ellipse cx=\"526.095\" cy=\"313.057\" rx=\"12.7156\" ry=\"12.7156\" style=\"fill:#FDB171;fill-rule:evenodd;stroke:#FDB171;stroke-width:1px;stroke-linecap:butt;stroke-linejoin:miter;stroke-opacity:1\"/>\n<ellipse cx=\"573.457\" cy=\"318.582\" rx=\"12.7156\" ry=\"12.7156\" style=\"fill:#FD9345;fill-rule:evenodd;stroke:#FD9345;stroke-width:1px;stroke-linecap:butt;stroke-linejoin:miter;stroke-opacity:1\"/>\n<ellipse cx=\"592.354\" cy=\"362.361\" rx=\"12.7156\" ry=\"12.7156\" style=\"fill:#FDB272;fill-rule:evenodd;stroke:#FDB272;stroke-width:1px;stroke-linecap:butt;stroke-linejoin:miter;stroke-opacity:1\"/>\n<ellipse cx=\"563.888\" cy=\"400.616\" rx=\"12.7156\" ry=\"12.7156\" style=\"fill:#FDAE6C;fill-rule:evenodd;stroke:#FDAE6C;stroke-width:1px;stroke-linecap:butt;stroke-linejoin:miter;stroke-opacity:1\"/>\n<ellipse cx=\"639.716\" cy=\"367.886\" rx=\"12.7156\" ry=\"12.7156\" style=\"fill:#CB4301;fill-rule:evenodd;stroke:#CB4301;stroke-width:1px;stroke-linecap:butt;stroke-linejoin:miter;stroke-opacity:1\"/>\n<ellipse cx=\"668.182\" cy=\"329.632\" rx=\"12.7156\" ry=\"12.7156\" style=\"fill:#FDD6AF;fill-rule:evenodd;stroke:#FDD6AF;stroke-width:1px;stroke-linecap:butt;stroke-linejoin:miter;stroke-opacity:1\"/>\n<ellipse cx=\"649.285\" cy=\"285.852\" rx=\"12.7156\" ry=\"12.7156\" style=\"fill:#FDA35B;fill-rule:evenodd;stroke:#FDA35B;stroke-width:1px;stroke-linecap:butt;stroke-linejoin:miter;stroke-opacity:1\"/>\n<ellipse cx=\"601.923\" cy=\"280.327\" rx=\"12.7156\" ry=\"12.7156\" style=\"fill:#FDD8B2;fill-rule:evenodd;stroke:#FDD8B2;stroke-width:1px;stroke-linecap:butt;stroke-linejoin:miter;stroke-opacity:1\"/>\n<ellipse cx=\"345.972\" cy=\"416.772\" rx=\"12.7156\" ry=\"12.7156\" style=\"fill:#FDB171;fill-rule:evenodd;stroke:#FDB171;stroke-width:1px;stroke-linecap:butt;stroke-linejoin:miter;stroke-opacity:1\"/>\n<ellipse cx=\"298.61\" cy=\"411.247\" rx=\"12.7156\" ry=\"12.7156\" style=\"fill:#FDA35B;fill-rule:evenodd;stroke:#FDA35B;stroke-width:1px;stroke-linecap:butt;stroke-linejoin:miter;stroke-opacity:1\"/>\n<ellipse cx=\"270.144\" cy=\"449.501\" rx=\"12.7156\" ry=\"12.7156\" style=\"fill:#FDA55E;fill-rule:evenodd;stroke:#FDA55E;stroke-width:1px;stroke-linecap:butt;stroke-linejoin:miter;stroke-opacity:1\"/>\n<ellipse cx=\"174.919\" cy=\"337.171\" rx=\"12.7156\" ry=\"12.7156\" style=\"fill:#FDB272;fill-rule:evenodd;stroke:#FDB272;stroke-width:1px;stroke-linecap:butt;stroke-linejoin:miter;stroke-opacity:1\"/>\n<path d=\"M 142.42,175.219 154.038,188.421\" style=\"fill:none;fill-rule:evenodd;stroke:#000000;stroke-width:2px;stroke-linecap:butt;stroke-linejoin:miter;stroke-opacity:1\"/>\n<path d=\"M 154.038,188.421 165.655,201.623\" style=\"fill:none;fill-rule:evenodd;stroke:#0000FF;stroke-width:2px;stroke-linecap:butt;stroke-linejoin:miter;stroke-opacity:1\"/>\n<path d=\"M 182.187,209.357 201.429,205.496\" style=\"fill:none;fill-rule:evenodd;stroke:#0000FF;stroke-width:2px;stroke-linecap:butt;stroke-linejoin:miter;stroke-opacity:1\"/>\n<path d=\"M 201.429,205.496 220.672,201.635\" style=\"fill:none;fill-rule:evenodd;stroke:#000000;stroke-width:2px;stroke-linecap:butt;stroke-linejoin:miter;stroke-opacity:1\"/>\n<path d=\"M 170.701,220.553 164.685,238.374\" style=\"fill:none;fill-rule:evenodd;stroke:#0000FF;stroke-width:2px;stroke-linecap:butt;stroke-linejoin:miter;stroke-opacity:1\"/>\n<path d=\"M 164.685,238.374 158.669,256.195\" style=\"fill:none;fill-rule:evenodd;stroke:#000000;stroke-width:2px;stroke-linecap:butt;stroke-linejoin:miter;stroke-opacity:1\"/>\n<path d=\"M 158.669,256.195 190.17,291.992\" style=\"fill:none;fill-rule:evenodd;stroke:#000000;stroke-width:2px;stroke-linecap:butt;stroke-linejoin:miter;stroke-opacity:1\"/>\n<path d=\"M 190.17,291.992 236.921,282.611\" style=\"fill:none;fill-rule:evenodd;stroke:#000000;stroke-width:2px;stroke-linecap:butt;stroke-linejoin:miter;stroke-opacity:1\"/>\n<path d=\"M 199.059,299.935 231.785,293.368\" style=\"fill:none;fill-rule:evenodd;stroke:#000000;stroke-width:2px;stroke-linecap:butt;stroke-linejoin:miter;stroke-opacity:1\"/>\n<path d=\"M 190.17,291.992 174.919,337.171\" style=\"fill:none;fill-rule:evenodd;stroke:#000000;stroke-width:2px;stroke-linecap:butt;stroke-linejoin:miter;stroke-opacity:1\"/>\n<path d=\"M 236.921,282.611 248.539,295.813\" style=\"fill:none;fill-rule:evenodd;stroke:#000000;stroke-width:2px;stroke-linecap:butt;stroke-linejoin:miter;stroke-opacity:1\"/>\n<path d=\"M 248.539,295.813 260.156,309.015\" style=\"fill:none;fill-rule:evenodd;stroke:#0000FF;stroke-width:2px;stroke-linecap:butt;stroke-linejoin:miter;stroke-opacity:1\"/>\n<path d=\"M 265.202,327.945 259.186,345.766\" style=\"fill:none;fill-rule:evenodd;stroke:#0000FF;stroke-width:2px;stroke-linecap:butt;stroke-linejoin:miter;stroke-opacity:1\"/>\n<path d=\"M 259.186,345.766 253.17,363.587\" style=\"fill:none;fill-rule:evenodd;stroke:#000000;stroke-width:2px;stroke-linecap:butt;stroke-linejoin:miter;stroke-opacity:1\"/>\n<path d=\"M 254.362,330.241 250.151,342.716\" style=\"fill:none;fill-rule:evenodd;stroke:#0000FF;stroke-width:2px;stroke-linecap:butt;stroke-linejoin:miter;stroke-opacity:1\"/>\n<path d=\"M 250.151,342.716 245.939,355.19\" style=\"fill:none;fill-rule:evenodd;stroke:#000000;stroke-width:2px;stroke-linecap:butt;stroke-linejoin:miter;stroke-opacity:1\"/>\n<path d=\"M 253.17,363.587 206.419,372.968\" style=\"fill:none;fill-rule:evenodd;stroke:#000000;stroke-width:2px;stroke-linecap:butt;stroke-linejoin:miter;stroke-opacity:1\"/>\n<path d=\"M 206.419,372.968 191.168,418.147\" style=\"fill:none;fill-rule:evenodd;stroke:#000000;stroke-width:2px;stroke-linecap:butt;stroke-linejoin:miter;stroke-opacity:1\"/>\n<path d=\"M 206.419,372.968 174.919,337.171\" style=\"fill:none;fill-rule:evenodd;stroke:#000000;stroke-width:2px;stroke-linecap:butt;stroke-linejoin:miter;stroke-opacity:1\"/>\n<path d=\"M 208.853,361.299 186.803,336.241\" style=\"fill:none;fill-rule:evenodd;stroke:#000000;stroke-width:2px;stroke-linecap:butt;stroke-linejoin:miter;stroke-opacity:1\"/>\n<path d=\"M 191.168,418.147 144.416,427.529\" style=\"fill:none;fill-rule:evenodd;stroke:#000000;stroke-width:2px;stroke-linecap:butt;stroke-linejoin:miter;stroke-opacity:1\"/>\n<path d=\"M 191.168,418.147 202.785,431.349\" style=\"fill:none;fill-rule:evenodd;stroke:#000000;stroke-width:2px;stroke-linecap:butt;stroke-linejoin:miter;stroke-opacity:1\"/>\n<path d=\"M 202.785,431.349 214.402,444.551\" style=\"fill:none;fill-rule:evenodd;stroke:#0000FF;stroke-width:2px;stroke-linecap:butt;stroke-linejoin:miter;stroke-opacity:1\"/>\n<path d=\"M 144.416,427.529 112.916,391.731\" style=\"fill:none;fill-rule:evenodd;stroke:#000000;stroke-width:2px;stroke-linecap:butt;stroke-linejoin:miter;stroke-opacity:1\"/>\n<path d=\"M 117.434,393.256 123.45,375.435\" style=\"fill:none;fill-rule:evenodd;stroke:#000000;stroke-width:2px;stroke-linecap:butt;stroke-linejoin:miter;stroke-opacity:1\"/>\n<path d=\"M 123.45,375.435 129.465,357.614\" style=\"fill:none;fill-rule:evenodd;stroke:#FF0000;stroke-width:2px;stroke-linecap:butt;stroke-linejoin:miter;stroke-opacity:1\"/>\n<path d=\"M 108.398,390.206 114.414,372.385\" style=\"fill:none;fill-rule:evenodd;stroke:#000000;stroke-width:2px;stroke-linecap:butt;stroke-linejoin:miter;stroke-opacity:1\"/>\n<path d=\"M 114.414,372.385 120.43,354.564\" style=\"fill:none;fill-rule:evenodd;stroke:#FF0000;stroke-width:2px;stroke-linecap:butt;stroke-linejoin:miter;stroke-opacity:1\"/>\n<path d=\"M 112.916,391.731 98.1264,394.699\" style=\"fill:none;fill-rule:evenodd;stroke:#000000;stroke-width:2px;stroke-linecap:butt;stroke-linejoin:miter;stroke-opacity:1\"/>\n<path d=\"M 98.1264,394.699 83.337,397.667\" style=\"fill:none;fill-rule:evenodd;stroke:#FF0000;stroke-width:2px;stroke-linecap:butt;stroke-linejoin:miter;stroke-opacity:1\"/>\n<path d=\"M 220.527,463.481 216.375,481.976\" style=\"fill:none;fill-rule:evenodd;stroke:#0000FF;stroke-width:2px;stroke-linecap:butt;stroke-linejoin:miter;stroke-opacity:1\"/>\n<path d=\"M 216.375,481.976 212.223,500.47\" style=\"fill:none;fill-rule:evenodd;stroke:#000000;stroke-width:2px;stroke-linecap:butt;stroke-linejoin:miter;stroke-opacity:1\"/>\n<path d=\"M 230.934,453.171 250.539,451.336\" style=\"fill:none;fill-rule:evenodd;stroke:#0000FF;stroke-width:2px;stroke-linecap:butt;stroke-linejoin:miter;stroke-opacity:1\"/>\n<path d=\"M 250.539,451.336 270.144,449.501\" style=\"fill:none;fill-rule:evenodd;stroke:#000000;stroke-width:2px;stroke-linecap:butt;stroke-linejoin:miter;stroke-opacity:1\"/>\n<path d=\"M 212.223,500.47 253.243,524.781\" style=\"fill:none;fill-rule:evenodd;stroke:#000000;stroke-width:2px;stroke-linecap:butt;stroke-linejoin:miter;stroke-opacity:1\"/>\n<path d=\"M 223.238,495.913 251.952,512.93\" style=\"fill:none;fill-rule:evenodd;stroke:#000000;stroke-width:2px;stroke-linecap:butt;stroke-linejoin:miter;stroke-opacity:1\"/>\n<path d=\"M 253.243,524.781 289.041,493.281\" style=\"fill:none;fill-rule:evenodd;stroke:#000000;stroke-width:2px;stroke-linecap:butt;stroke-linejoin:miter;stroke-opacity:1\"/>\n<path d=\"M 289.041,493.281 336.403,498.806\" style=\"fill:none;fill-rule:evenodd;stroke:#000000;stroke-width:2px;stroke-linecap:butt;stroke-linejoin:miter;stroke-opacity:1\"/>\n<path d=\"M 297.25,484.637 330.404,488.504\" style=\"fill:none;fill-rule:evenodd;stroke:#000000;stroke-width:2px;stroke-linecap:butt;stroke-linejoin:miter;stroke-opacity:1\"/>\n<path d=\"M 289.041,493.281 270.144,449.501\" style=\"fill:none;fill-rule:evenodd;stroke:#000000;stroke-width:2px;stroke-linecap:butt;stroke-linejoin:miter;stroke-opacity:1\"/>\n<path d=\"M 336.403,498.806 364.869,460.551\" style=\"fill:none;fill-rule:evenodd;stroke:#000000;stroke-width:2px;stroke-linecap:butt;stroke-linejoin:miter;stroke-opacity:1\"/>\n<path d=\"M 364.869,460.551 384.097,462.794\" style=\"fill:none;fill-rule:evenodd;stroke:#000000;stroke-width:2px;stroke-linecap:butt;stroke-linejoin:miter;stroke-opacity:1\"/>\n<path d=\"M 384.097,462.794 403.324,465.037\" style=\"fill:none;fill-rule:evenodd;stroke:#FF0000;stroke-width:2px;stroke-linecap:butt;stroke-linejoin:miter;stroke-opacity:1\"/>\n<path d=\"M 364.869,460.551 345.972,416.772\" style=\"fill:none;fill-rule:evenodd;stroke:#000000;stroke-width:2px;stroke-linecap:butt;stroke-linejoin:miter;stroke-opacity:1\"/>\n<path d=\"M 353.278,457.763 340.051,427.118\" style=\"fill:none;fill-rule:evenodd;stroke:#000000;stroke-width:2px;stroke-linecap:butt;stroke-linejoin:miter;stroke-opacity:1\"/>\n<path d=\"M 419.328,456.539 430.012,442.18\" style=\"fill:none;fill-rule:evenodd;stroke:#FF0000;stroke-width:2px;stroke-linecap:butt;stroke-linejoin:miter;stroke-opacity:1\"/>\n<path d=\"M 430.012,442.18 440.697,427.821\" style=\"fill:none;fill-rule:evenodd;stroke:#000000;stroke-width:2px;stroke-linecap:butt;stroke-linejoin:miter;stroke-opacity:1\"/>\n<path d=\"M 440.697,427.821 488.06,433.346\" style=\"fill:none;fill-rule:evenodd;stroke:#000000;stroke-width:2px;stroke-linecap:butt;stroke-linejoin:miter;stroke-opacity:1\"/>\n<path d=\"M 488.06,433.346 516.525,395.091\" style=\"fill:none;fill-rule:evenodd;stroke:#000000;stroke-width:2px;stroke-linecap:butt;stroke-linejoin:miter;stroke-opacity:1\"/>\n<path d=\"M 516.525,395.091 497.629,351.312\" style=\"fill:none;fill-rule:evenodd;stroke:#000000;stroke-width:2px;stroke-linecap:butt;stroke-linejoin:miter;stroke-opacity:1\"/>\n<path d=\"M 522.447,384.745 509.219,354.099\" style=\"fill:none;fill-rule:evenodd;stroke:#000000;stroke-width:2px;stroke-linecap:butt;stroke-linejoin:miter;stroke-opacity:1\"/>\n<path d=\"M 516.525,395.091 536.074,397.372\" style=\"fill:none;fill-rule:evenodd;stroke:#000000;stroke-width:2px;stroke-linecap:butt;stroke-linejoin:miter;stroke-opacity:1\"/>\n<path d=\"M 536.074,397.372 555.622,399.652\" style=\"fill:none;fill-rule:evenodd;stroke:#0000FF;stroke-width:2px;stroke-linecap:butt;stroke-linejoin:miter;stroke-opacity:1\"/>\n<path d=\"M 497.629,351.312 526.095,313.057\" style=\"fill:none;fill-rule:evenodd;stroke:#000000;stroke-width:2px;stroke-linecap:butt;stroke-linejoin:miter;stroke-opacity:1\"/>\n<path d=\"M 526.095,313.057 573.457,318.582\" style=\"fill:none;fill-rule:evenodd;stroke:#000000;stroke-width:2px;stroke-linecap:butt;stroke-linejoin:miter;stroke-opacity:1\"/>\n<path d=\"M 532.094,323.358 565.248,327.226\" style=\"fill:none;fill-rule:evenodd;stroke:#000000;stroke-width:2px;stroke-linecap:butt;stroke-linejoin:miter;stroke-opacity:1\"/>\n<path d=\"M 573.457,318.582 592.354,362.361\" style=\"fill:none;fill-rule:evenodd;stroke:#000000;stroke-width:2px;stroke-linecap:butt;stroke-linejoin:miter;stroke-opacity:1\"/>\n<path d=\"M 573.457,318.582 601.923,280.327\" style=\"fill:none;fill-rule:evenodd;stroke:#000000;stroke-width:2px;stroke-linecap:butt;stroke-linejoin:miter;stroke-opacity:1\"/>\n<path d=\"M 592.354,362.361 581.669,376.72\" style=\"fill:none;fill-rule:evenodd;stroke:#000000;stroke-width:2px;stroke-linecap:butt;stroke-linejoin:miter;stroke-opacity:1\"/>\n<path d=\"M 581.669,376.72 570.984,391.079\" style=\"fill:none;fill-rule:evenodd;stroke:#0000FF;stroke-width:2px;stroke-linecap:butt;stroke-linejoin:miter;stroke-opacity:1\"/>\n<path d=\"M 581.497,360.976 574.018,371.027\" style=\"fill:none;fill-rule:evenodd;stroke:#000000;stroke-width:2px;stroke-linecap:butt;stroke-linejoin:miter;stroke-opacity:1\"/>\n<path d=\"M 574.018,371.027 566.539,381.078\" style=\"fill:none;fill-rule:evenodd;stroke:#0000FF;stroke-width:2px;stroke-linecap:butt;stroke-linejoin:miter;stroke-opacity:1\"/>\n<path d=\"M 592.354,362.361 607.769,364.16\" style=\"fill:none;fill-rule:evenodd;stroke:#000000;stroke-width:2px;stroke-linecap:butt;stroke-linejoin:miter;stroke-opacity:1\"/>\n<path d=\"M 607.769,364.16 623.184,365.958\" style=\"fill:none;fill-rule:evenodd;stroke:#0000FF;stroke-width:2px;stroke-linecap:butt;stroke-linejoin:miter;stroke-opacity:1\"/>\n<path d=\"M 646.812,358.349 657.497,343.99\" style=\"fill:none;fill-rule:evenodd;stroke:#0000FF;stroke-width:2px;stroke-linecap:butt;stroke-linejoin:miter;stroke-opacity:1\"/>\n<path d=\"M 657.497,343.99 668.182,329.632\" style=\"fill:none;fill-rule:evenodd;stroke:#000000;stroke-width:2px;stroke-linecap:butt;stroke-linejoin:miter;stroke-opacity:1\"/>\n<path d=\"M 668.182,329.632 649.285,285.852\" style=\"fill:none;fill-rule:evenodd;stroke:#000000;stroke-width:2px;stroke-linecap:butt;stroke-linejoin:miter;stroke-opacity:1\"/>\n<path d=\"M 649.285,285.852 601.923,280.327\" style=\"fill:none;fill-rule:evenodd;stroke:#000000;stroke-width:2px;stroke-linecap:butt;stroke-linejoin:miter;stroke-opacity:1\"/>\n<path d=\"M 345.972,416.772 298.61,411.247\" style=\"fill:none;fill-rule:evenodd;stroke:#000000;stroke-width:2px;stroke-linecap:butt;stroke-linejoin:miter;stroke-opacity:1\"/>\n<path d=\"M 298.61,411.247 270.144,449.501\" style=\"fill:none;fill-rule:evenodd;stroke:#000000;stroke-width:2px;stroke-linecap:butt;stroke-linejoin:miter;stroke-opacity:1\"/>\n<path d=\"M 301.991,422.678 282.065,449.456\" style=\"fill:none;fill-rule:evenodd;stroke:#000000;stroke-width:2px;stroke-linecap:butt;stroke-linejoin:miter;stroke-opacity:1\"/>\n<text style=\"font-size:19px;font-style:normal;font-weight:normal;fill-opacity:1;stroke:none;font-family:sans-serif;text-anchor:start;fill:#0000FF\" x=\"165.655\" y=\"220.553\"><tspan>N</tspan></text>\n<text style=\"font-size:19px;font-style:normal;font-weight:normal;fill-opacity:1;stroke:none;font-family:sans-serif;text-anchor:start;fill:#0000FF\" x=\"260.156\" y=\"327.945\"><tspan>N</tspan></text>\n<text style=\"font-size:19px;font-style:normal;font-weight:normal;fill-opacity:1;stroke:none;font-family:sans-serif;text-anchor:start;fill:#FF0000\" x=\"119.26\" y=\"356.089\"><tspan>O</tspan></text>\n<text style=\"font-size:19px;font-style:normal;font-weight:normal;fill-opacity:1;stroke:none;font-family:sans-serif;text-anchor:start;fill:#FF0000\" x=\"48.9911\" y=\"410.649\"><tspan>HO</tspan></text>\n<text style=\"font-size:19px;font-style:normal;font-weight:normal;fill-opacity:1;stroke:none;font-family:sans-serif;text-anchor:start;fill:#0000FF\" x=\"214.402\" y=\"463.481\"><tspan>N</tspan></text>\n<text style=\"font-size:19px;font-style:normal;font-weight:normal;fill-opacity:1;stroke:none;font-family:sans-serif;text-anchor:start;fill:#FF0000\" x=\"403.324\" y=\"475.613\"><tspan>O</tspan></text>\n<text style=\"font-size:19px;font-style:normal;font-weight:normal;fill-opacity:1;stroke:none;font-family:sans-serif;text-anchor:start;fill:#0000FF\" x=\"555.622\" y=\"410.153\"><tspan>N</tspan></text>\n<text style=\"font-size:19px;font-style:normal;font-weight:normal;fill-opacity:1;stroke:none;font-family:sans-serif;text-anchor:start;fill:#0000FF\" x=\"623.184\" y=\"377.423\"><tspan>NH</tspan></text>\n</svg>",
      "text/plain": [
       "<IPython.core.display.SVG object>"
      ]
     },
     "metadata": {},
     "output_type": "display_data"
    },
    {
     "name": "stdout",
     "output_type": "stream",
     "text": [
      "CC(C)N1CN(C(c2ccccc2)c2ccccc2)n2ccc(=O)c(O)c2C1=O\n",
      "['CC(C)N1CN(*)n2ccc(=O)c(O)c2C1=O']\n",
      "Predicted PPB fraction: 0.9469088\n",
      "Dectected Priviledged Substructures: ['CC(C)N1CN(*)n2ccc(=O)c(O)c2C1=O']\n"
     ]
    },
    {
     "data": {
      "image/svg+xml": "<svg baseProfile=\"full\" height=\"700px\" version=\"1.1\" width=\"700px\" xml:space=\"preserve\" xmlns=\"http://www.w3.org/2000/svg\" xmlns:rdkit=\"http://www.rdkit.org/xml\" xmlns:xlink=\"http://www.w3.org/1999/xlink\">\n<rect height=\"700\" style=\"opacity:1.0;fill:#FFFFFF;stroke:none\" width=\"700\" x=\"0\" y=\"0\"> </rect>\n<path d=\"M 355.778,85.0598 421.758,137.019\" style=\"fill:none;fill-rule:evenodd;stroke:#CC0000;stroke-width:16px;stroke-linecap:butt;stroke-linejoin:miter;stroke-opacity:1\"/>\n<path d=\"M 421.758,137.019 499.746,105.858\" style=\"fill:none;fill-rule:evenodd;stroke:#CC0000;stroke-width:16px;stroke-linecap:butt;stroke-linejoin:miter;stroke-opacity:1\"/>\n<path d=\"M 421.758,137.019 409.75,220.139\" style=\"fill:none;fill-rule:evenodd;stroke:#CC0000;stroke-width:16px;stroke-linecap:butt;stroke-linejoin:miter;stroke-opacity:1\"/>\n<path d=\"M 409.75,220.139 331.762,251.3\" style=\"fill:none;fill-rule:evenodd;stroke:#CC0000;stroke-width:16px;stroke-linecap:butt;stroke-linejoin:miter;stroke-opacity:1\"/>\n<path d=\"M 409.75,220.139 475.73,272.098\" style=\"fill:none;fill-rule:evenodd;stroke:#CC0000;stroke-width:16px;stroke-linecap:butt;stroke-linejoin:miter;stroke-opacity:1\"/>\n<path d=\"M 331.762,251.3 319.754,334.42\" style=\"fill:none;fill-rule:evenodd;stroke:#CC0000;stroke-width:16px;stroke-linecap:butt;stroke-linejoin:miter;stroke-opacity:1\"/>\n<path d=\"M 319.754,334.42 241.766,365.58\" style=\"fill:none;fill-rule:evenodd;stroke:#CC0000;stroke-width:16px;stroke-linecap:butt;stroke-linejoin:miter;stroke-opacity:1\"/>\n<path d=\"M 319.754,334.42 385.734,386.379\" style=\"fill:none;fill-rule:evenodd;stroke:#CC0000;stroke-width:16px;stroke-linecap:butt;stroke-linejoin:miter;stroke-opacity:1\"/>\n<path d=\"M 385.734,386.379 373.726,469.499\" style=\"fill:none;fill-rule:evenodd;stroke:#CC0000;stroke-width:16px;stroke-linecap:butt;stroke-linejoin:miter;stroke-opacity:1\"/>\n<path d=\"M 385.734,386.379 463.722,355.218\" style=\"fill:none;fill-rule:evenodd;stroke:#CC0000;stroke-width:16px;stroke-linecap:butt;stroke-linejoin:miter;stroke-opacity:1\"/>\n<path d=\"M 373.726,469.499 439.706,521.458\" style=\"fill:none;fill-rule:evenodd;stroke:#CC0000;stroke-width:16px;stroke-linecap:butt;stroke-linejoin:miter;stroke-opacity:1\"/>\n<path d=\"M 439.706,521.458 517.694,490.297\" style=\"fill:none;fill-rule:evenodd;stroke:#CC0000;stroke-width:16px;stroke-linecap:butt;stroke-linejoin:miter;stroke-opacity:1\"/>\n<path d=\"M 517.694,490.297 583.674,542.256\" style=\"fill:none;fill-rule:evenodd;stroke:#CC0000;stroke-width:16px;stroke-linecap:butt;stroke-linejoin:miter;stroke-opacity:1\"/>\n<path d=\"M 517.694,490.297 529.702,407.177\" style=\"fill:none;fill-rule:evenodd;stroke:#CC0000;stroke-width:16px;stroke-linecap:butt;stroke-linejoin:miter;stroke-opacity:1\"/>\n<path d=\"M 529.702,407.177 607.69,376.017\" style=\"fill:none;fill-rule:evenodd;stroke:#CC0000;stroke-width:16px;stroke-linecap:butt;stroke-linejoin:miter;stroke-opacity:1\"/>\n<path d=\"M 529.702,407.177 463.722,355.218\" style=\"fill:none;fill-rule:evenodd;stroke:#CC0000;stroke-width:16px;stroke-linecap:butt;stroke-linejoin:miter;stroke-opacity:1\"/>\n<path d=\"M 463.722,355.218 475.73,272.098\" style=\"fill:none;fill-rule:evenodd;stroke:#CC0000;stroke-width:16px;stroke-linecap:butt;stroke-linejoin:miter;stroke-opacity:1\"/>\n<path d=\"M 475.73,272.098 553.718,240.937\" style=\"fill:none;fill-rule:evenodd;stroke:#CC0000;stroke-width:16px;stroke-linecap:butt;stroke-linejoin:miter;stroke-opacity:1\"/>\n<ellipse cx=\"355.778\" cy=\"85.0598\" rx=\"22.3954\" ry=\"22.3954\" style=\"fill:#FD9142;fill-rule:evenodd;stroke:#FD9142;stroke-width:1px;stroke-linecap:butt;stroke-linejoin:miter;stroke-opacity:1\"/>\n<ellipse cx=\"421.758\" cy=\"137.019\" rx=\"22.3954\" ry=\"22.3954\" style=\"fill:#FA8533;fill-rule:evenodd;stroke:#FA8533;stroke-width:1px;stroke-linecap:butt;stroke-linejoin:miter;stroke-opacity:1\"/>\n<ellipse cx=\"499.746\" cy=\"105.858\" rx=\"22.3954\" ry=\"22.3954\" style=\"fill:#FD9142;fill-rule:evenodd;stroke:#FD9142;stroke-width:1px;stroke-linecap:butt;stroke-linejoin:miter;stroke-opacity:1\"/>\n<ellipse cx=\"409.75\" cy=\"220.139\" rx=\"22.3954\" ry=\"22.3954\" style=\"fill:#E35609;fill-rule:evenodd;stroke:#E35609;stroke-width:1px;stroke-linecap:butt;stroke-linejoin:miter;stroke-opacity:1\"/>\n<ellipse cx=\"331.762\" cy=\"251.3\" rx=\"22.3954\" ry=\"22.3954\" style=\"fill:#F26C17;fill-rule:evenodd;stroke:#F26C17;stroke-width:1px;stroke-linecap:butt;stroke-linejoin:miter;stroke-opacity:1\"/>\n<ellipse cx=\"319.754\" cy=\"334.42\" rx=\"22.3954\" ry=\"22.3954\" style=\"fill:#FDB678;fill-rule:evenodd;stroke:#FDB678;stroke-width:1px;stroke-linecap:butt;stroke-linejoin:miter;stroke-opacity:1\"/>\n<ellipse cx=\"241.766\" cy=\"365.58\" rx=\"22.3954\" ry=\"22.3954\" style=\"fill:#FD9041;fill-rule:evenodd;stroke:#FD9041;stroke-width:1px;stroke-linecap:butt;stroke-linejoin:miter;stroke-opacity:1\"/>\n<ellipse cx=\"175.786\" cy=\"313.621\" rx=\"22.3954\" ry=\"22.3954\" style=\"fill:#CB4301;fill-rule:evenodd;stroke:#CB4301;stroke-width:1px;stroke-linecap:butt;stroke-linejoin:miter;stroke-opacity:1\"/>\n<ellipse cx=\"187.794\" cy=\"230.501\" rx=\"22.3954\" ry=\"22.3954\" style=\"fill:#FDC997;fill-rule:evenodd;stroke:#FDC997;stroke-width:1px;stroke-linecap:butt;stroke-linejoin:miter;stroke-opacity:1\"/>\n<ellipse cx=\"121.814\" cy=\"178.542\" rx=\"22.3954\" ry=\"22.3954\" style=\"fill:#FDDDBD;fill-rule:evenodd;stroke:#FDDDBD;stroke-width:1px;stroke-linecap:butt;stroke-linejoin:miter;stroke-opacity:1\"/>\n<ellipse cx=\"43.8262\" cy=\"209.703\" rx=\"22.3954\" ry=\"22.3954\" style=\"fill:#FDE4CB;fill-rule:evenodd;stroke:#FDE4CB;stroke-width:1px;stroke-linecap:butt;stroke-linejoin:miter;stroke-opacity:1\"/>\n<ellipse cx=\"31.8182\" cy=\"292.823\" rx=\"22.3954\" ry=\"22.3954\" style=\"fill:#FDDDBD;fill-rule:evenodd;stroke:#FDDDBD;stroke-width:1px;stroke-linecap:butt;stroke-linejoin:miter;stroke-opacity:1\"/>\n<ellipse cx=\"97.7982\" cy=\"344.782\" rx=\"22.3954\" ry=\"22.3954\" style=\"fill:#FDC997;fill-rule:evenodd;stroke:#FDC997;stroke-width:1px;stroke-linecap:butt;stroke-linejoin:miter;stroke-opacity:1\"/>\n<ellipse cx=\"229.758\" cy=\"448.7\" rx=\"22.3954\" ry=\"22.3954\" style=\"fill:#CB4301;fill-rule:evenodd;stroke:#CB4301;stroke-width:1px;stroke-linecap:butt;stroke-linejoin:miter;stroke-opacity:1\"/>\n<ellipse cx=\"151.77\" cy=\"479.861\" rx=\"22.3954\" ry=\"22.3954\" style=\"fill:#FDC997;fill-rule:evenodd;stroke:#FDC997;stroke-width:1px;stroke-linecap:butt;stroke-linejoin:miter;stroke-opacity:1\"/>\n<ellipse cx=\"139.762\" cy=\"562.981\" rx=\"22.3954\" ry=\"22.3954\" style=\"fill:#FDDDBD;fill-rule:evenodd;stroke:#FDDDBD;stroke-width:1px;stroke-linecap:butt;stroke-linejoin:miter;stroke-opacity:1\"/>\n<ellipse cx=\"205.742\" cy=\"614.94\" rx=\"22.3954\" ry=\"22.3954\" style=\"fill:#FDE4CB;fill-rule:evenodd;stroke:#FDE4CB;stroke-width:1px;stroke-linecap:butt;stroke-linejoin:miter;stroke-opacity:1\"/>\n<ellipse cx=\"283.73\" cy=\"583.779\" rx=\"22.3954\" ry=\"22.3954\" style=\"fill:#FDDDBD;fill-rule:evenodd;stroke:#FDDDBD;stroke-width:1px;stroke-linecap:butt;stroke-linejoin:miter;stroke-opacity:1\"/>\n<ellipse cx=\"295.738\" cy=\"500.659\" rx=\"22.3954\" ry=\"22.3954\" style=\"fill:#FDC997;fill-rule:evenodd;stroke:#FDC997;stroke-width:1px;stroke-linecap:butt;stroke-linejoin:miter;stroke-opacity:1\"/>\n<ellipse cx=\"385.734\" cy=\"386.379\" rx=\"22.3954\" ry=\"22.3954\" style=\"fill:#FD9F55;fill-rule:evenodd;stroke:#FD9F55;stroke-width:1px;stroke-linecap:butt;stroke-linejoin:miter;stroke-opacity:1\"/>\n<ellipse cx=\"373.726\" cy=\"469.499\" rx=\"22.3954\" ry=\"22.3954\" style=\"fill:#F77B28;fill-rule:evenodd;stroke:#F77B28;stroke-width:1px;stroke-linecap:butt;stroke-linejoin:miter;stroke-opacity:1\"/>\n<ellipse cx=\"439.706\" cy=\"521.458\" rx=\"22.3954\" ry=\"22.3954\" style=\"fill:#F67A26;fill-rule:evenodd;stroke:#F67A26;stroke-width:1px;stroke-linecap:butt;stroke-linejoin:miter;stroke-opacity:1\"/>\n<ellipse cx=\"517.694\" cy=\"490.297\" rx=\"22.3954\" ry=\"22.3954\" style=\"fill:#F77C29;fill-rule:evenodd;stroke:#F77C29;stroke-width:1px;stroke-linecap:butt;stroke-linejoin:miter;stroke-opacity:1\"/>\n<ellipse cx=\"583.674\" cy=\"542.256\" rx=\"22.3954\" ry=\"22.3954\" style=\"fill:#FEE9D4;fill-rule:evenodd;stroke:#FEE9D4;stroke-width:1px;stroke-linecap:butt;stroke-linejoin:miter;stroke-opacity:1\"/>\n<ellipse cx=\"529.702\" cy=\"407.177\" rx=\"22.3954\" ry=\"22.3954\" style=\"fill:#E95F0D;fill-rule:evenodd;stroke:#E95F0D;stroke-width:1px;stroke-linecap:butt;stroke-linejoin:miter;stroke-opacity:1\"/>\n<ellipse cx=\"607.69\" cy=\"376.017\" rx=\"22.3954\" ry=\"22.3954\" style=\"fill:#FFF5EB;fill-rule:evenodd;stroke:#FFF5EB;stroke-width:1px;stroke-linecap:butt;stroke-linejoin:miter;stroke-opacity:1\"/>\n<ellipse cx=\"463.722\" cy=\"355.218\" rx=\"22.3954\" ry=\"22.3954\" style=\"fill:#F98331;fill-rule:evenodd;stroke:#F98331;stroke-width:1px;stroke-linecap:butt;stroke-linejoin:miter;stroke-opacity:1\"/>\n<ellipse cx=\"475.73\" cy=\"272.098\" rx=\"22.3954\" ry=\"22.3954\" style=\"fill:#F4721D;fill-rule:evenodd;stroke:#F4721D;stroke-width:1px;stroke-linecap:butt;stroke-linejoin:miter;stroke-opacity:1\"/>\n<ellipse cx=\"553.718\" cy=\"240.937\" rx=\"22.3954\" ry=\"22.3954\" style=\"fill:#FEEFE0;fill-rule:evenodd;stroke:#FEEFE0;stroke-width:1px;stroke-linecap:butt;stroke-linejoin:miter;stroke-opacity:1\"/>\n<path d=\"M 355.778,85.0598 421.758,137.019\" style=\"fill:none;fill-rule:evenodd;stroke:#000000;stroke-width:2px;stroke-linecap:butt;stroke-linejoin:miter;stroke-opacity:1\"/>\n<path d=\"M 421.758,137.019 499.746,105.858\" style=\"fill:none;fill-rule:evenodd;stroke:#000000;stroke-width:2px;stroke-linecap:butt;stroke-linejoin:miter;stroke-opacity:1\"/>\n<path d=\"M 421.758,137.019 416.404,174.079\" style=\"fill:none;fill-rule:evenodd;stroke:#000000;stroke-width:2px;stroke-linecap:butt;stroke-linejoin:miter;stroke-opacity:1\"/>\n<path d=\"M 416.404,174.079 411.05,211.139\" style=\"fill:none;fill-rule:evenodd;stroke:#0000FF;stroke-width:2px;stroke-linecap:butt;stroke-linejoin:miter;stroke-opacity:1\"/>\n<path d=\"M 401.949,223.256 366.856,237.278\" style=\"fill:none;fill-rule:evenodd;stroke:#0000FF;stroke-width:2px;stroke-linecap:butt;stroke-linejoin:miter;stroke-opacity:1\"/>\n<path d=\"M 366.856,237.278 331.762,251.3\" style=\"fill:none;fill-rule:evenodd;stroke:#000000;stroke-width:2px;stroke-linecap:butt;stroke-linejoin:miter;stroke-opacity:1\"/>\n<path d=\"M 417.551,226.282 446.64,249.19\" style=\"fill:none;fill-rule:evenodd;stroke:#0000FF;stroke-width:2px;stroke-linecap:butt;stroke-linejoin:miter;stroke-opacity:1\"/>\n<path d=\"M 446.64,249.19 475.73,272.098\" style=\"fill:none;fill-rule:evenodd;stroke:#000000;stroke-width:2px;stroke-linecap:butt;stroke-linejoin:miter;stroke-opacity:1\"/>\n<path d=\"M 331.762,251.3 326.408,288.36\" style=\"fill:none;fill-rule:evenodd;stroke:#000000;stroke-width:2px;stroke-linecap:butt;stroke-linejoin:miter;stroke-opacity:1\"/>\n<path d=\"M 326.408,288.36 321.054,325.42\" style=\"fill:none;fill-rule:evenodd;stroke:#0000FF;stroke-width:2px;stroke-linecap:butt;stroke-linejoin:miter;stroke-opacity:1\"/>\n<path d=\"M 311.953,337.536 276.86,351.558\" style=\"fill:none;fill-rule:evenodd;stroke:#0000FF;stroke-width:2px;stroke-linecap:butt;stroke-linejoin:miter;stroke-opacity:1\"/>\n<path d=\"M 276.86,351.558 241.766,365.58\" style=\"fill:none;fill-rule:evenodd;stroke:#000000;stroke-width:2px;stroke-linecap:butt;stroke-linejoin:miter;stroke-opacity:1\"/>\n<path d=\"M 327.555,340.563 377.933,380.236\" style=\"fill:none;fill-rule:evenodd;stroke:#0000FF;stroke-width:2px;stroke-linecap:butt;stroke-linejoin:miter;stroke-opacity:1\"/>\n<path d=\"M 241.766,365.58 175.786,313.621\" style=\"fill:none;fill-rule:evenodd;stroke:#000000;stroke-width:2px;stroke-linecap:butt;stroke-linejoin:miter;stroke-opacity:1\"/>\n<path d=\"M 241.766,365.58 229.758,448.7\" style=\"fill:none;fill-rule:evenodd;stroke:#000000;stroke-width:2px;stroke-linecap:butt;stroke-linejoin:miter;stroke-opacity:1\"/>\n<path d=\"M 175.786,313.621 187.794,230.501\" style=\"fill:none;fill-rule:evenodd;stroke:#000000;stroke-width:2px;stroke-linecap:butt;stroke-linejoin:miter;stroke-opacity:1\"/>\n<path d=\"M 160.963,298.752 169.369,240.568\" style=\"fill:none;fill-rule:evenodd;stroke:#000000;stroke-width:2px;stroke-linecap:butt;stroke-linejoin:miter;stroke-opacity:1\"/>\n<path d=\"M 175.786,313.621 97.7982,344.782\" style=\"fill:none;fill-rule:evenodd;stroke:#000000;stroke-width:2px;stroke-linecap:butt;stroke-linejoin:miter;stroke-opacity:1\"/>\n<path d=\"M 187.794,230.501 121.814,178.542\" style=\"fill:none;fill-rule:evenodd;stroke:#000000;stroke-width:2px;stroke-linecap:butt;stroke-linejoin:miter;stroke-opacity:1\"/>\n<path d=\"M 121.814,178.542 43.8262,209.703\" style=\"fill:none;fill-rule:evenodd;stroke:#000000;stroke-width:2px;stroke-linecap:butt;stroke-linejoin:miter;stroke-opacity:1\"/>\n<path d=\"M 116.348,198.814 61.7565,220.626\" style=\"fill:none;fill-rule:evenodd;stroke:#000000;stroke-width:2px;stroke-linecap:butt;stroke-linejoin:miter;stroke-opacity:1\"/>\n<path d=\"M 43.8262,209.703 31.8182,292.823\" style=\"fill:none;fill-rule:evenodd;stroke:#000000;stroke-width:2px;stroke-linecap:butt;stroke-linejoin:miter;stroke-opacity:1\"/>\n<path d=\"M 31.8182,292.823 97.7982,344.782\" style=\"fill:none;fill-rule:evenodd;stroke:#000000;stroke-width:2px;stroke-linecap:butt;stroke-linejoin:miter;stroke-opacity:1\"/>\n<path d=\"M 52.107,287.421 98.293,323.792\" style=\"fill:none;fill-rule:evenodd;stroke:#000000;stroke-width:2px;stroke-linecap:butt;stroke-linejoin:miter;stroke-opacity:1\"/>\n<path d=\"M 229.758,448.7 151.77,479.861\" style=\"fill:none;fill-rule:evenodd;stroke:#000000;stroke-width:2px;stroke-linecap:butt;stroke-linejoin:miter;stroke-opacity:1\"/>\n<path d=\"M 224.292,468.972 169.701,490.785\" style=\"fill:none;fill-rule:evenodd;stroke:#000000;stroke-width:2px;stroke-linecap:butt;stroke-linejoin:miter;stroke-opacity:1\"/>\n<path d=\"M 229.758,448.7 295.738,500.659\" style=\"fill:none;fill-rule:evenodd;stroke:#000000;stroke-width:2px;stroke-linecap:butt;stroke-linejoin:miter;stroke-opacity:1\"/>\n<path d=\"M 151.77,479.861 139.762,562.981\" style=\"fill:none;fill-rule:evenodd;stroke:#000000;stroke-width:2px;stroke-linecap:butt;stroke-linejoin:miter;stroke-opacity:1\"/>\n<path d=\"M 139.762,562.981 205.742,614.94\" style=\"fill:none;fill-rule:evenodd;stroke:#000000;stroke-width:2px;stroke-linecap:butt;stroke-linejoin:miter;stroke-opacity:1\"/>\n<path d=\"M 160.051,557.579 206.237,593.95\" style=\"fill:none;fill-rule:evenodd;stroke:#000000;stroke-width:2px;stroke-linecap:butt;stroke-linejoin:miter;stroke-opacity:1\"/>\n<path d=\"M 205.742,614.94 283.73,583.779\" style=\"fill:none;fill-rule:evenodd;stroke:#000000;stroke-width:2px;stroke-linecap:butt;stroke-linejoin:miter;stroke-opacity:1\"/>\n<path d=\"M 283.73,583.779 295.738,500.659\" style=\"fill:none;fill-rule:evenodd;stroke:#000000;stroke-width:2px;stroke-linecap:butt;stroke-linejoin:miter;stroke-opacity:1\"/>\n<path d=\"M 268.907,568.91 277.313,510.726\" style=\"fill:none;fill-rule:evenodd;stroke:#000000;stroke-width:2px;stroke-linecap:butt;stroke-linejoin:miter;stroke-opacity:1\"/>\n<path d=\"M 384.434,395.379 379.08,432.439\" style=\"fill:none;fill-rule:evenodd;stroke:#0000FF;stroke-width:2px;stroke-linecap:butt;stroke-linejoin:miter;stroke-opacity:1\"/>\n<path d=\"M 379.08,432.439 373.726,469.499\" style=\"fill:none;fill-rule:evenodd;stroke:#000000;stroke-width:2px;stroke-linecap:butt;stroke-linejoin:miter;stroke-opacity:1\"/>\n<path d=\"M 393.535,383.262 428.628,369.24\" style=\"fill:none;fill-rule:evenodd;stroke:#0000FF;stroke-width:2px;stroke-linecap:butt;stroke-linejoin:miter;stroke-opacity:1\"/>\n<path d=\"M 428.628,369.24 463.722,355.218\" style=\"fill:none;fill-rule:evenodd;stroke:#000000;stroke-width:2px;stroke-linecap:butt;stroke-linejoin:miter;stroke-opacity:1\"/>\n<path d=\"M 373.726,469.499 439.706,521.458\" style=\"fill:none;fill-rule:evenodd;stroke:#000000;stroke-width:2px;stroke-linecap:butt;stroke-linejoin:miter;stroke-opacity:1\"/>\n<path d=\"M 394.015,464.097 440.201,500.468\" style=\"fill:none;fill-rule:evenodd;stroke:#000000;stroke-width:2px;stroke-linecap:butt;stroke-linejoin:miter;stroke-opacity:1\"/>\n<path d=\"M 439.706,521.458 517.694,490.297\" style=\"fill:none;fill-rule:evenodd;stroke:#000000;stroke-width:2px;stroke-linecap:butt;stroke-linejoin:miter;stroke-opacity:1\"/>\n<path d=\"M 512.498,496.895 541.285,519.565\" style=\"fill:none;fill-rule:evenodd;stroke:#000000;stroke-width:2px;stroke-linecap:butt;stroke-linejoin:miter;stroke-opacity:1\"/>\n<path d=\"M 541.285,519.565 570.072,542.235\" style=\"fill:none;fill-rule:evenodd;stroke:#FF0000;stroke-width:2px;stroke-linecap:butt;stroke-linejoin:miter;stroke-opacity:1\"/>\n<path d=\"M 522.89,483.699 551.677,506.369\" style=\"fill:none;fill-rule:evenodd;stroke:#000000;stroke-width:2px;stroke-linecap:butt;stroke-linejoin:miter;stroke-opacity:1\"/>\n<path d=\"M 551.677,506.369 580.464,529.039\" style=\"fill:none;fill-rule:evenodd;stroke:#FF0000;stroke-width:2px;stroke-linecap:butt;stroke-linejoin:miter;stroke-opacity:1\"/>\n<path d=\"M 517.694,490.297 529.702,407.177\" style=\"fill:none;fill-rule:evenodd;stroke:#000000;stroke-width:2px;stroke-linecap:butt;stroke-linejoin:miter;stroke-opacity:1\"/>\n<path d=\"M 529.702,407.177 560.593,394.835\" style=\"fill:none;fill-rule:evenodd;stroke:#000000;stroke-width:2px;stroke-linecap:butt;stroke-linejoin:miter;stroke-opacity:1\"/>\n<path d=\"M 560.593,394.835 591.484,382.492\" style=\"fill:none;fill-rule:evenodd;stroke:#FF0000;stroke-width:2px;stroke-linecap:butt;stroke-linejoin:miter;stroke-opacity:1\"/>\n<path d=\"M 529.702,407.177 463.722,355.218\" style=\"fill:none;fill-rule:evenodd;stroke:#000000;stroke-width:2px;stroke-linecap:butt;stroke-linejoin:miter;stroke-opacity:1\"/>\n<path d=\"M 509.413,412.579 463.227,376.208\" style=\"fill:none;fill-rule:evenodd;stroke:#000000;stroke-width:2px;stroke-linecap:butt;stroke-linejoin:miter;stroke-opacity:1\"/>\n<path d=\"M 463.722,355.218 475.73,272.098\" style=\"fill:none;fill-rule:evenodd;stroke:#000000;stroke-width:2px;stroke-linecap:butt;stroke-linejoin:miter;stroke-opacity:1\"/>\n<path d=\"M 478.846,279.897 513.637,265.996\" style=\"fill:none;fill-rule:evenodd;stroke:#000000;stroke-width:2px;stroke-linecap:butt;stroke-linejoin:miter;stroke-opacity:1\"/>\n<path d=\"M 513.637,265.996 548.428,252.095\" style=\"fill:none;fill-rule:evenodd;stroke:#FF0000;stroke-width:2px;stroke-linecap:butt;stroke-linejoin:miter;stroke-opacity:1\"/>\n<path d=\"M 472.614,264.299 507.405,250.398\" style=\"fill:none;fill-rule:evenodd;stroke:#000000;stroke-width:2px;stroke-linecap:butt;stroke-linejoin:miter;stroke-opacity:1\"/>\n<path d=\"M 507.405,250.398 542.196,236.497\" style=\"fill:none;fill-rule:evenodd;stroke:#FF0000;stroke-width:2px;stroke-linecap:butt;stroke-linejoin:miter;stroke-opacity:1\"/>\n<text style=\"font-size:18px;font-style:normal;font-weight:normal;fill-opacity:1;stroke:none;font-family:sans-serif;text-anchor:start;fill:#0000FF\" x=\"401.949\" y=\"229.139\"><tspan>N</tspan></text>\n<text style=\"font-size:18px;font-style:normal;font-weight:normal;fill-opacity:1;stroke:none;font-family:sans-serif;text-anchor:start;fill:#0000FF\" x=\"311.953\" y=\"343.42\"><tspan>N</tspan></text>\n<text style=\"font-size:18px;font-style:normal;font-weight:normal;fill-opacity:1;stroke:none;font-family:sans-serif;text-anchor:start;fill:#0000FF\" x=\"377.933\" y=\"395.379\"><tspan>N</tspan></text>\n<text style=\"font-size:18px;font-style:normal;font-weight:normal;fill-opacity:1;stroke:none;font-family:sans-serif;text-anchor:start;fill:#FF0000\" x=\"575.268\" y=\"551.256\"><tspan>O</tspan></text>\n<text style=\"font-size:18px;font-style:normal;font-weight:normal;fill-opacity:1;stroke:none;font-family:sans-serif;text-anchor:start;fill:#FF0000\" x=\"591.484\" y=\"385.017\"><tspan>OH</tspan></text>\n<text style=\"font-size:18px;font-style:normal;font-weight:normal;fill-opacity:1;stroke:none;font-family:sans-serif;text-anchor:start;fill:#FF0000\" x=\"545.312\" y=\"249.937\"><tspan>O</tspan></text>\n</svg>",
      "text/plain": [
       "<IPython.core.display.SVG object>"
      ]
     },
     "metadata": {},
     "output_type": "display_data"
    },
    {
     "name": "stdout",
     "output_type": "stream",
     "text": [
      "COCCN1CN(C(c2ccccc2)c2ccccc2)n2ccc(=O)c(O)c2C1=O\n",
      "['COCCN1CN(*)n2ccc(=O)c(O)c2C1=O']\n",
      "Predicted PPB fraction: 0.9236307\n",
      "Dectected Priviledged Substructures: ['COCCN1CN(*)n2ccc(=O)c(O)c2C1=O']\n"
     ]
    },
    {
     "data": {
      "image/svg+xml": "<svg baseProfile=\"full\" height=\"700px\" version=\"1.1\" width=\"700px\" xml:space=\"preserve\" xmlns=\"http://www.w3.org/2000/svg\" xmlns:rdkit=\"http://www.rdkit.org/xml\" xmlns:xlink=\"http://www.w3.org/1999/xlink\">\n<rect height=\"700\" style=\"opacity:1.0;fill:#FFFFFF;stroke:none\" width=\"700\" x=\"0\" y=\"0\"> </rect>\n<path d=\"M 31.8182,233.133 99.2912,194.178\" style=\"fill:none;fill-rule:evenodd;stroke:#CC0000;stroke-width:16px;stroke-linecap:butt;stroke-linejoin:miter;stroke-opacity:1\"/>\n<path d=\"M 99.2912,194.178 166.764,233.133\" style=\"fill:none;fill-rule:evenodd;stroke:#CC0000;stroke-width:16px;stroke-linecap:butt;stroke-linejoin:miter;stroke-opacity:1\"/>\n<path d=\"M 166.764,233.133 234.237,194.178\" style=\"fill:none;fill-rule:evenodd;stroke:#CC0000;stroke-width:16px;stroke-linecap:butt;stroke-linejoin:miter;stroke-opacity:1\"/>\n<path d=\"M 234.237,194.178 301.71,233.133\" style=\"fill:none;fill-rule:evenodd;stroke:#CC0000;stroke-width:16px;stroke-linecap:butt;stroke-linejoin:miter;stroke-opacity:1\"/>\n<path d=\"M 301.71,233.133 301.71,311.044\" style=\"fill:none;fill-rule:evenodd;stroke:#CC0000;stroke-width:16px;stroke-linecap:butt;stroke-linejoin:miter;stroke-opacity:1\"/>\n<path d=\"M 301.71,233.133 369.183,194.178\" style=\"fill:none;fill-rule:evenodd;stroke:#CC0000;stroke-width:16px;stroke-linecap:butt;stroke-linejoin:miter;stroke-opacity:1\"/>\n<path d=\"M 301.71,311.044 369.183,350\" style=\"fill:none;fill-rule:evenodd;stroke:#CC0000;stroke-width:16px;stroke-linecap:butt;stroke-linejoin:miter;stroke-opacity:1\"/>\n<path d=\"M 369.183,350 369.183,427.911\" style=\"fill:none;fill-rule:evenodd;stroke:#CC0000;stroke-width:16px;stroke-linecap:butt;stroke-linejoin:miter;stroke-opacity:1\"/>\n<path d=\"M 369.183,350 436.656,311.044\" style=\"fill:none;fill-rule:evenodd;stroke:#CC0000;stroke-width:16px;stroke-linecap:butt;stroke-linejoin:miter;stroke-opacity:1\"/>\n<path d=\"M 436.656,311.044 504.129,350\" style=\"fill:none;fill-rule:evenodd;stroke:#CC0000;stroke-width:16px;stroke-linecap:butt;stroke-linejoin:miter;stroke-opacity:1\"/>\n<path d=\"M 436.656,311.044 436.656,233.133\" style=\"fill:none;fill-rule:evenodd;stroke:#CC0000;stroke-width:16px;stroke-linecap:butt;stroke-linejoin:miter;stroke-opacity:1\"/>\n<path d=\"M 504.129,350 571.602,311.044\" style=\"fill:none;fill-rule:evenodd;stroke:#CC0000;stroke-width:16px;stroke-linecap:butt;stroke-linejoin:miter;stroke-opacity:1\"/>\n<path d=\"M 571.602,311.044 571.602,233.133\" style=\"fill:none;fill-rule:evenodd;stroke:#CC0000;stroke-width:16px;stroke-linecap:butt;stroke-linejoin:miter;stroke-opacity:1\"/>\n<path d=\"M 571.602,233.133 639.075,194.178\" style=\"fill:none;fill-rule:evenodd;stroke:#CC0000;stroke-width:16px;stroke-linecap:butt;stroke-linejoin:miter;stroke-opacity:1\"/>\n<path d=\"M 571.602,233.133 504.129,194.178\" style=\"fill:none;fill-rule:evenodd;stroke:#CC0000;stroke-width:16px;stroke-linecap:butt;stroke-linejoin:miter;stroke-opacity:1\"/>\n<path d=\"M 504.129,194.178 504.129,116.267\" style=\"fill:none;fill-rule:evenodd;stroke:#CC0000;stroke-width:16px;stroke-linecap:butt;stroke-linejoin:miter;stroke-opacity:1\"/>\n<path d=\"M 504.129,194.178 436.656,233.133\" style=\"fill:none;fill-rule:evenodd;stroke:#CC0000;stroke-width:16px;stroke-linecap:butt;stroke-linejoin:miter;stroke-opacity:1\"/>\n<path d=\"M 436.656,233.133 369.183,194.178\" style=\"fill:none;fill-rule:evenodd;stroke:#CC0000;stroke-width:16px;stroke-linecap:butt;stroke-linejoin:miter;stroke-opacity:1\"/>\n<path d=\"M 369.183,194.178 369.183,116.267\" style=\"fill:none;fill-rule:evenodd;stroke:#CC0000;stroke-width:16px;stroke-linecap:butt;stroke-linejoin:miter;stroke-opacity:1\"/>\n<ellipse cx=\"31.8182\" cy=\"233.133\" rx=\"20.7763\" ry=\"20.7763\" style=\"fill:#FB8736;fill-rule:evenodd;stroke:#FB8736;stroke-width:1px;stroke-linecap:butt;stroke-linejoin:miter;stroke-opacity:1\"/>\n<ellipse cx=\"99.2912\" cy=\"194.178\" rx=\"20.7763\" ry=\"20.7763\" style=\"fill:#FDA660;fill-rule:evenodd;stroke:#FDA660;stroke-width:1px;stroke-linecap:butt;stroke-linejoin:miter;stroke-opacity:1\"/>\n<ellipse cx=\"166.764\" cy=\"233.133\" rx=\"20.7763\" ry=\"20.7763\" style=\"fill:#F67A26;fill-rule:evenodd;stroke:#F67A26;stroke-width:1px;stroke-linecap:butt;stroke-linejoin:miter;stroke-opacity:1\"/>\n<ellipse cx=\"234.237\" cy=\"194.178\" rx=\"20.7763\" ry=\"20.7763\" style=\"fill:#D14501;fill-rule:evenodd;stroke:#D14501;stroke-width:1px;stroke-linecap:butt;stroke-linejoin:miter;stroke-opacity:1\"/>\n<ellipse cx=\"301.71\" cy=\"233.133\" rx=\"20.7763\" ry=\"20.7763\" style=\"fill:#E45709;fill-rule:evenodd;stroke:#E45709;stroke-width:1px;stroke-linecap:butt;stroke-linejoin:miter;stroke-opacity:1\"/>\n<ellipse cx=\"301.71\" cy=\"311.044\" rx=\"20.7763\" ry=\"20.7763\" style=\"fill:#F16A14;fill-rule:evenodd;stroke:#F16A14;stroke-width:1px;stroke-linecap:butt;stroke-linejoin:miter;stroke-opacity:1\"/>\n<ellipse cx=\"369.183\" cy=\"350\" rx=\"20.7763\" ry=\"20.7763\" style=\"fill:#FDB678;fill-rule:evenodd;stroke:#FDB678;stroke-width:1px;stroke-linecap:butt;stroke-linejoin:miter;stroke-opacity:1\"/>\n<ellipse cx=\"369.183\" cy=\"427.911\" rx=\"20.7763\" ry=\"20.7763\" style=\"fill:#FD9041;fill-rule:evenodd;stroke:#FD9041;stroke-width:1px;stroke-linecap:butt;stroke-linejoin:miter;stroke-opacity:1\"/>\n<ellipse cx=\"301.71\" cy=\"466.867\" rx=\"20.7763\" ry=\"20.7763\" style=\"fill:#CB4301;fill-rule:evenodd;stroke:#CB4301;stroke-width:1px;stroke-linecap:butt;stroke-linejoin:miter;stroke-opacity:1\"/>\n<ellipse cx=\"234.237\" cy=\"427.911\" rx=\"20.7763\" ry=\"20.7763\" style=\"fill:#FDC997;fill-rule:evenodd;stroke:#FDC997;stroke-width:1px;stroke-linecap:butt;stroke-linejoin:miter;stroke-opacity:1\"/>\n<ellipse cx=\"166.764\" cy=\"466.867\" rx=\"20.7763\" ry=\"20.7763\" style=\"fill:#FDDDBD;fill-rule:evenodd;stroke:#FDDDBD;stroke-width:1px;stroke-linecap:butt;stroke-linejoin:miter;stroke-opacity:1\"/>\n<ellipse cx=\"166.764\" cy=\"544.778\" rx=\"20.7763\" ry=\"20.7763\" style=\"fill:#FDE4CB;fill-rule:evenodd;stroke:#FDE4CB;stroke-width:1px;stroke-linecap:butt;stroke-linejoin:miter;stroke-opacity:1\"/>\n<ellipse cx=\"234.237\" cy=\"583.733\" rx=\"20.7763\" ry=\"20.7763\" style=\"fill:#FDDDBD;fill-rule:evenodd;stroke:#FDDDBD;stroke-width:1px;stroke-linecap:butt;stroke-linejoin:miter;stroke-opacity:1\"/>\n<ellipse cx=\"301.71\" cy=\"544.778\" rx=\"20.7763\" ry=\"20.7763\" style=\"fill:#FDC997;fill-rule:evenodd;stroke:#FDC997;stroke-width:1px;stroke-linecap:butt;stroke-linejoin:miter;stroke-opacity:1\"/>\n<ellipse cx=\"436.656\" cy=\"466.867\" rx=\"20.7763\" ry=\"20.7763\" style=\"fill:#CB4301;fill-rule:evenodd;stroke:#CB4301;stroke-width:1px;stroke-linecap:butt;stroke-linejoin:miter;stroke-opacity:1\"/>\n<ellipse cx=\"436.656\" cy=\"544.778\" rx=\"20.7763\" ry=\"20.7763\" style=\"fill:#FDC997;fill-rule:evenodd;stroke:#FDC997;stroke-width:1px;stroke-linecap:butt;stroke-linejoin:miter;stroke-opacity:1\"/>\n<ellipse cx=\"504.129\" cy=\"583.733\" rx=\"20.7763\" ry=\"20.7763\" style=\"fill:#FDDDBD;fill-rule:evenodd;stroke:#FDDDBD;stroke-width:1px;stroke-linecap:butt;stroke-linejoin:miter;stroke-opacity:1\"/>\n<ellipse cx=\"571.602\" cy=\"544.778\" rx=\"20.7763\" ry=\"20.7763\" style=\"fill:#FDE4CB;fill-rule:evenodd;stroke:#FDE4CB;stroke-width:1px;stroke-linecap:butt;stroke-linejoin:miter;stroke-opacity:1\"/>\n<ellipse cx=\"571.602\" cy=\"466.867\" rx=\"20.7763\" ry=\"20.7763\" style=\"fill:#FDDDBD;fill-rule:evenodd;stroke:#FDDDBD;stroke-width:1px;stroke-linecap:butt;stroke-linejoin:miter;stroke-opacity:1\"/>\n<ellipse cx=\"504.129\" cy=\"427.911\" rx=\"20.7763\" ry=\"20.7763\" style=\"fill:#FDC997;fill-rule:evenodd;stroke:#FDC997;stroke-width:1px;stroke-linecap:butt;stroke-linejoin:miter;stroke-opacity:1\"/>\n<ellipse cx=\"436.656\" cy=\"311.044\" rx=\"20.7763\" ry=\"20.7763\" style=\"fill:#FD9F55;fill-rule:evenodd;stroke:#FD9F55;stroke-width:1px;stroke-linecap:butt;stroke-linejoin:miter;stroke-opacity:1\"/>\n<ellipse cx=\"504.129\" cy=\"350\" rx=\"20.7763\" ry=\"20.7763\" style=\"fill:#F77B28;fill-rule:evenodd;stroke:#F77B28;stroke-width:1px;stroke-linecap:butt;stroke-linejoin:miter;stroke-opacity:1\"/>\n<ellipse cx=\"571.602\" cy=\"311.044\" rx=\"20.7763\" ry=\"20.7763\" style=\"fill:#F67A26;fill-rule:evenodd;stroke:#F67A26;stroke-width:1px;stroke-linecap:butt;stroke-linejoin:miter;stroke-opacity:1\"/>\n<ellipse cx=\"571.602\" cy=\"233.133\" rx=\"20.7763\" ry=\"20.7763\" style=\"fill:#F77C29;fill-rule:evenodd;stroke:#F77C29;stroke-width:1px;stroke-linecap:butt;stroke-linejoin:miter;stroke-opacity:1\"/>\n<ellipse cx=\"639.075\" cy=\"194.178\" rx=\"20.7763\" ry=\"20.7763\" style=\"fill:#FEE9D4;fill-rule:evenodd;stroke:#FEE9D4;stroke-width:1px;stroke-linecap:butt;stroke-linejoin:miter;stroke-opacity:1\"/>\n<ellipse cx=\"504.129\" cy=\"194.178\" rx=\"20.7763\" ry=\"20.7763\" style=\"fill:#E95F0D;fill-rule:evenodd;stroke:#E95F0D;stroke-width:1px;stroke-linecap:butt;stroke-linejoin:miter;stroke-opacity:1\"/>\n<ellipse cx=\"504.129\" cy=\"116.267\" rx=\"20.7763\" ry=\"20.7763\" style=\"fill:#FFF5EB;fill-rule:evenodd;stroke:#FFF5EB;stroke-width:1px;stroke-linecap:butt;stroke-linejoin:miter;stroke-opacity:1\"/>\n<ellipse cx=\"436.656\" cy=\"233.133\" rx=\"20.7763\" ry=\"20.7763\" style=\"fill:#F98331;fill-rule:evenodd;stroke:#F98331;stroke-width:1px;stroke-linecap:butt;stroke-linejoin:miter;stroke-opacity:1\"/>\n<ellipse cx=\"369.183\" cy=\"194.178\" rx=\"20.7763\" ry=\"20.7763\" style=\"fill:#F4721D;fill-rule:evenodd;stroke:#F4721D;stroke-width:1px;stroke-linecap:butt;stroke-linejoin:miter;stroke-opacity:1\"/>\n<ellipse cx=\"369.183\" cy=\"116.267\" rx=\"20.7763\" ry=\"20.7763\" style=\"fill:#FEEFE0;fill-rule:evenodd;stroke:#FEEFE0;stroke-width:1px;stroke-linecap:butt;stroke-linejoin:miter;stroke-opacity:1\"/>\n<path d=\"M 31.8182,233.133 61.3518,216.082\" style=\"fill:none;fill-rule:evenodd;stroke:#000000;stroke-width:2px;stroke-linecap:butt;stroke-linejoin:miter;stroke-opacity:1\"/>\n<path d=\"M 61.3518,216.082 90.8854,199.031\" style=\"fill:none;fill-rule:evenodd;stroke:#FF0000;stroke-width:2px;stroke-linecap:butt;stroke-linejoin:miter;stroke-opacity:1\"/>\n<path d=\"M 107.697,199.031 137.231,216.082\" style=\"fill:none;fill-rule:evenodd;stroke:#FF0000;stroke-width:2px;stroke-linecap:butt;stroke-linejoin:miter;stroke-opacity:1\"/>\n<path d=\"M 137.231,216.082 166.764,233.133\" style=\"fill:none;fill-rule:evenodd;stroke:#000000;stroke-width:2px;stroke-linecap:butt;stroke-linejoin:miter;stroke-opacity:1\"/>\n<path d=\"M 166.764,233.133 234.237,194.178\" style=\"fill:none;fill-rule:evenodd;stroke:#000000;stroke-width:2px;stroke-linecap:butt;stroke-linejoin:miter;stroke-opacity:1\"/>\n<path d=\"M 234.237,194.178 264.073,211.404\" style=\"fill:none;fill-rule:evenodd;stroke:#000000;stroke-width:2px;stroke-linecap:butt;stroke-linejoin:miter;stroke-opacity:1\"/>\n<path d=\"M 264.073,211.404 293.909,228.63\" style=\"fill:none;fill-rule:evenodd;stroke:#0000FF;stroke-width:2px;stroke-linecap:butt;stroke-linejoin:miter;stroke-opacity:1\"/>\n<path d=\"M 301.71,242.133 301.71,276.589\" style=\"fill:none;fill-rule:evenodd;stroke:#0000FF;stroke-width:2px;stroke-linecap:butt;stroke-linejoin:miter;stroke-opacity:1\"/>\n<path d=\"M 301.71,276.589 301.71,311.044\" style=\"fill:none;fill-rule:evenodd;stroke:#000000;stroke-width:2px;stroke-linecap:butt;stroke-linejoin:miter;stroke-opacity:1\"/>\n<path d=\"M 309.511,228.63 339.347,211.404\" style=\"fill:none;fill-rule:evenodd;stroke:#0000FF;stroke-width:2px;stroke-linecap:butt;stroke-linejoin:miter;stroke-opacity:1\"/>\n<path d=\"M 339.347,211.404 369.183,194.178\" style=\"fill:none;fill-rule:evenodd;stroke:#000000;stroke-width:2px;stroke-linecap:butt;stroke-linejoin:miter;stroke-opacity:1\"/>\n<path d=\"M 301.71,311.044 331.546,328.27\" style=\"fill:none;fill-rule:evenodd;stroke:#000000;stroke-width:2px;stroke-linecap:butt;stroke-linejoin:miter;stroke-opacity:1\"/>\n<path d=\"M 331.546,328.27 361.382,345.496\" style=\"fill:none;fill-rule:evenodd;stroke:#0000FF;stroke-width:2px;stroke-linecap:butt;stroke-linejoin:miter;stroke-opacity:1\"/>\n<path d=\"M 369.183,359 369.183,393.456\" style=\"fill:none;fill-rule:evenodd;stroke:#0000FF;stroke-width:2px;stroke-linecap:butt;stroke-linejoin:miter;stroke-opacity:1\"/>\n<path d=\"M 369.183,393.456 369.183,427.911\" style=\"fill:none;fill-rule:evenodd;stroke:#000000;stroke-width:2px;stroke-linecap:butt;stroke-linejoin:miter;stroke-opacity:1\"/>\n<path d=\"M 376.984,345.496 428.855,315.548\" style=\"fill:none;fill-rule:evenodd;stroke:#0000FF;stroke-width:2px;stroke-linecap:butt;stroke-linejoin:miter;stroke-opacity:1\"/>\n<path d=\"M 369.183,427.911 301.71,466.867\" style=\"fill:none;fill-rule:evenodd;stroke:#000000;stroke-width:2px;stroke-linecap:butt;stroke-linejoin:miter;stroke-opacity:1\"/>\n<path d=\"M 369.183,427.911 436.656,466.867\" style=\"fill:none;fill-rule:evenodd;stroke:#000000;stroke-width:2px;stroke-linecap:butt;stroke-linejoin:miter;stroke-opacity:1\"/>\n<path d=\"M 301.71,466.867 234.237,427.911\" style=\"fill:none;fill-rule:evenodd;stroke:#000000;stroke-width:2px;stroke-linecap:butt;stroke-linejoin:miter;stroke-opacity:1\"/>\n<path d=\"M 283.798,474.518 236.567,447.249\" style=\"fill:none;fill-rule:evenodd;stroke:#000000;stroke-width:2px;stroke-linecap:butt;stroke-linejoin:miter;stroke-opacity:1\"/>\n<path d=\"M 301.71,466.867 301.71,544.778\" style=\"fill:none;fill-rule:evenodd;stroke:#000000;stroke-width:2px;stroke-linecap:butt;stroke-linejoin:miter;stroke-opacity:1\"/>\n<path d=\"M 234.237,427.911 166.764,466.867\" style=\"fill:none;fill-rule:evenodd;stroke:#000000;stroke-width:2px;stroke-linecap:butt;stroke-linejoin:miter;stroke-opacity:1\"/>\n<path d=\"M 166.764,466.867 166.764,544.778\" style=\"fill:none;fill-rule:evenodd;stroke:#000000;stroke-width:2px;stroke-linecap:butt;stroke-linejoin:miter;stroke-opacity:1\"/>\n<path d=\"M 182.346,478.553 182.346,533.091\" style=\"fill:none;fill-rule:evenodd;stroke:#000000;stroke-width:2px;stroke-linecap:butt;stroke-linejoin:miter;stroke-opacity:1\"/>\n<path d=\"M 166.764,544.778 234.237,583.733\" style=\"fill:none;fill-rule:evenodd;stroke:#000000;stroke-width:2px;stroke-linecap:butt;stroke-linejoin:miter;stroke-opacity:1\"/>\n<path d=\"M 234.237,583.733 301.71,544.778\" style=\"fill:none;fill-rule:evenodd;stroke:#000000;stroke-width:2px;stroke-linecap:butt;stroke-linejoin:miter;stroke-opacity:1\"/>\n<path d=\"M 236.567,564.395 283.798,537.126\" style=\"fill:none;fill-rule:evenodd;stroke:#000000;stroke-width:2px;stroke-linecap:butt;stroke-linejoin:miter;stroke-opacity:1\"/>\n<path d=\"M 436.656,466.867 436.656,544.778\" style=\"fill:none;fill-rule:evenodd;stroke:#000000;stroke-width:2px;stroke-linecap:butt;stroke-linejoin:miter;stroke-opacity:1\"/>\n<path d=\"M 452.238,478.553 452.238,533.091\" style=\"fill:none;fill-rule:evenodd;stroke:#000000;stroke-width:2px;stroke-linecap:butt;stroke-linejoin:miter;stroke-opacity:1\"/>\n<path d=\"M 436.656,466.867 504.129,427.911\" style=\"fill:none;fill-rule:evenodd;stroke:#000000;stroke-width:2px;stroke-linecap:butt;stroke-linejoin:miter;stroke-opacity:1\"/>\n<path d=\"M 436.656,544.778 504.129,583.733\" style=\"fill:none;fill-rule:evenodd;stroke:#000000;stroke-width:2px;stroke-linecap:butt;stroke-linejoin:miter;stroke-opacity:1\"/>\n<path d=\"M 504.129,583.733 571.602,544.778\" style=\"fill:none;fill-rule:evenodd;stroke:#000000;stroke-width:2px;stroke-linecap:butt;stroke-linejoin:miter;stroke-opacity:1\"/>\n<path d=\"M 506.459,564.395 553.69,537.126\" style=\"fill:none;fill-rule:evenodd;stroke:#000000;stroke-width:2px;stroke-linecap:butt;stroke-linejoin:miter;stroke-opacity:1\"/>\n<path d=\"M 571.602,544.778 571.602,466.867\" style=\"fill:none;fill-rule:evenodd;stroke:#000000;stroke-width:2px;stroke-linecap:butt;stroke-linejoin:miter;stroke-opacity:1\"/>\n<path d=\"M 571.602,466.867 504.129,427.911\" style=\"fill:none;fill-rule:evenodd;stroke:#000000;stroke-width:2px;stroke-linecap:butt;stroke-linejoin:miter;stroke-opacity:1\"/>\n<path d=\"M 553.69,474.518 506.459,447.249\" style=\"fill:none;fill-rule:evenodd;stroke:#000000;stroke-width:2px;stroke-linecap:butt;stroke-linejoin:miter;stroke-opacity:1\"/>\n<path d=\"M 444.457,315.548 474.293,332.774\" style=\"fill:none;fill-rule:evenodd;stroke:#0000FF;stroke-width:2px;stroke-linecap:butt;stroke-linejoin:miter;stroke-opacity:1\"/>\n<path d=\"M 474.293,332.774 504.129,350\" style=\"fill:none;fill-rule:evenodd;stroke:#000000;stroke-width:2px;stroke-linecap:butt;stroke-linejoin:miter;stroke-opacity:1\"/>\n<path d=\"M 436.656,302.044 436.656,267.589\" style=\"fill:none;fill-rule:evenodd;stroke:#0000FF;stroke-width:2px;stroke-linecap:butt;stroke-linejoin:miter;stroke-opacity:1\"/>\n<path d=\"M 436.656,267.589 436.656,233.133\" style=\"fill:none;fill-rule:evenodd;stroke:#000000;stroke-width:2px;stroke-linecap:butt;stroke-linejoin:miter;stroke-opacity:1\"/>\n<path d=\"M 504.129,350 571.602,311.044\" style=\"fill:none;fill-rule:evenodd;stroke:#000000;stroke-width:2px;stroke-linecap:butt;stroke-linejoin:miter;stroke-opacity:1\"/>\n<path d=\"M 506.459,330.662 553.69,303.393\" style=\"fill:none;fill-rule:evenodd;stroke:#000000;stroke-width:2px;stroke-linecap:butt;stroke-linejoin:miter;stroke-opacity:1\"/>\n<path d=\"M 571.602,311.044 571.602,233.133\" style=\"fill:none;fill-rule:evenodd;stroke:#000000;stroke-width:2px;stroke-linecap:butt;stroke-linejoin:miter;stroke-opacity:1\"/>\n<path d=\"M 575.498,239.881 605.031,222.829\" style=\"fill:none;fill-rule:evenodd;stroke:#000000;stroke-width:2px;stroke-linecap:butt;stroke-linejoin:miter;stroke-opacity:1\"/>\n<path d=\"M 605.031,222.829 634.565,205.778\" style=\"fill:none;fill-rule:evenodd;stroke:#FF0000;stroke-width:2px;stroke-linecap:butt;stroke-linejoin:miter;stroke-opacity:1\"/>\n<path d=\"M 567.707,226.386 597.24,209.335\" style=\"fill:none;fill-rule:evenodd;stroke:#000000;stroke-width:2px;stroke-linecap:butt;stroke-linejoin:miter;stroke-opacity:1\"/>\n<path d=\"M 597.24,209.335 626.774,192.284\" style=\"fill:none;fill-rule:evenodd;stroke:#FF0000;stroke-width:2px;stroke-linecap:butt;stroke-linejoin:miter;stroke-opacity:1\"/>\n<path d=\"M 571.602,233.133 504.129,194.178\" style=\"fill:none;fill-rule:evenodd;stroke:#000000;stroke-width:2px;stroke-linecap:butt;stroke-linejoin:miter;stroke-opacity:1\"/>\n<path d=\"M 504.129,194.178 504.129,159.722\" style=\"fill:none;fill-rule:evenodd;stroke:#000000;stroke-width:2px;stroke-linecap:butt;stroke-linejoin:miter;stroke-opacity:1\"/>\n<path d=\"M 504.129,159.722 504.129,125.267\" style=\"fill:none;fill-rule:evenodd;stroke:#FF0000;stroke-width:2px;stroke-linecap:butt;stroke-linejoin:miter;stroke-opacity:1\"/>\n<path d=\"M 504.129,194.178 436.656,233.133\" style=\"fill:none;fill-rule:evenodd;stroke:#000000;stroke-width:2px;stroke-linecap:butt;stroke-linejoin:miter;stroke-opacity:1\"/>\n<path d=\"M 501.799,213.516 454.568,240.785\" style=\"fill:none;fill-rule:evenodd;stroke:#000000;stroke-width:2px;stroke-linecap:butt;stroke-linejoin:miter;stroke-opacity:1\"/>\n<path d=\"M 436.656,233.133 369.183,194.178\" style=\"fill:none;fill-rule:evenodd;stroke:#000000;stroke-width:2px;stroke-linecap:butt;stroke-linejoin:miter;stroke-opacity:1\"/>\n<path d=\"M 376.974,194.178 376.974,159.722\" style=\"fill:none;fill-rule:evenodd;stroke:#000000;stroke-width:2px;stroke-linecap:butt;stroke-linejoin:miter;stroke-opacity:1\"/>\n<path d=\"M 376.974,159.722 376.974,125.267\" style=\"fill:none;fill-rule:evenodd;stroke:#FF0000;stroke-width:2px;stroke-linecap:butt;stroke-linejoin:miter;stroke-opacity:1\"/>\n<path d=\"M 361.392,194.178 361.392,159.722\" style=\"fill:none;fill-rule:evenodd;stroke:#000000;stroke-width:2px;stroke-linecap:butt;stroke-linejoin:miter;stroke-opacity:1\"/>\n<path d=\"M 361.392,159.722 361.392,125.267\" style=\"fill:none;fill-rule:evenodd;stroke:#FF0000;stroke-width:2px;stroke-linecap:butt;stroke-linejoin:miter;stroke-opacity:1\"/>\n<text style=\"font-size:18px;font-style:normal;font-weight:normal;fill-opacity:1;stroke:none;font-family:sans-serif;text-anchor:start;fill:#FF0000\" x=\"90.8854\" y=\"203.178\"><tspan>O</tspan></text>\n<text style=\"font-size:18px;font-style:normal;font-weight:normal;fill-opacity:1;stroke:none;font-family:sans-serif;text-anchor:start;fill:#0000FF\" x=\"293.909\" y=\"242.133\"><tspan>N</tspan></text>\n<text style=\"font-size:18px;font-style:normal;font-weight:normal;fill-opacity:1;stroke:none;font-family:sans-serif;text-anchor:start;fill:#0000FF\" x=\"361.382\" y=\"359\"><tspan>N</tspan></text>\n<text style=\"font-size:18px;font-style:normal;font-weight:normal;fill-opacity:1;stroke:none;font-family:sans-serif;text-anchor:start;fill:#0000FF\" x=\"428.855\" y=\"320.044\"><tspan>N</tspan></text>\n<text style=\"font-size:18px;font-style:normal;font-weight:normal;fill-opacity:1;stroke:none;font-family:sans-serif;text-anchor:start;fill:#FF0000\" x=\"630.669\" y=\"203.178\"><tspan>O</tspan></text>\n<text style=\"font-size:18px;font-style:normal;font-weight:normal;fill-opacity:1;stroke:none;font-family:sans-serif;text-anchor:start;fill:#FF0000\" x=\"487.923\" y=\"125.267\"><tspan>OH</tspan></text>\n<text style=\"font-size:18px;font-style:normal;font-weight:normal;fill-opacity:1;stroke:none;font-family:sans-serif;text-anchor:start;fill:#FF0000\" x=\"360.777\" y=\"125.267\"><tspan>O</tspan></text>\n</svg>",
      "text/plain": [
       "<IPython.core.display.SVG object>"
      ]
     },
     "metadata": {},
     "output_type": "display_data"
    }
   ],
   "source": [
    "for key,value in smi_aw.items():\n",
    "    print(key)\n",
    "    grinder = Grinder(3,18)\n",
    "    fragment_list = fragments(collectSubs(dataset([key]),grinder))\n",
    "    psubs = []\n",
    "    for fragment in fragment_list:\n",
    "        patt = Chem.MolFromSmarts(fragment)\n",
    "        smiles = Chem.MolFromSmiles(key)\n",
    "        atom_numbers = smiles.GetSubstructMatches(patt)\n",
    "        for j in range(len(atom_numbers)):\n",
    "            fragment_atoms = [smi_aw[key][i] for i in atom_numbers[j]]\n",
    "            rest_atoms = [smi_aw[key][i] for i in range(0,len(smi_aw[key]),1) if i not in atom_numbers[j]]\n",
    "            if len(rest_atoms) < 3:\n",
    "                pass\n",
    "            else:\n",
    "                try:\n",
    "                    p_value = stats.mannwhitneyu(fragment_atoms,rest_atoms,alternative = 'greater')[1]\n",
    "                    if p_value < 0.05:\n",
    "                        psubs.append(fragment)\n",
    "                except ValueError:\n",
    "                    pass\n",
    "    psubs_del = []\n",
    "    for i in range(len(psubs)-1):\n",
    "        for j in range(i+1,len(psubs)):\n",
    "            patt1 = Chem.MolFromSmarts(psubs[i])\n",
    "            patt2 = Chem.MolFromSmarts(psubs[j])\n",
    "            smi1 = Chem.MolFromSmiles(psubs[i])\n",
    "            smi2 = Chem.MolFromSmiles(psubs[j])\n",
    "            frag1 = smi2.HasSubstructMatch(patt1)\n",
    "            frag2 = smi1.HasSubstructMatch(patt2)\n",
    "            if frag1 == True:\n",
    "                if frag2 == False:\n",
    "                    psubs_del.append(psubs[i])\n",
    "            if frag1 == False:\n",
    "                if frag2 == True:\n",
    "                    psubs_del.append(psubs[j])\n",
    "    psub = [p for p in psubs if p not in psubs_del]\n",
    "    print(psub)\n",
    "    print('Predicted PPB fraction: '+str(remained_df[remained_df.cano_smiles == key].Predicted_values.values[0]))\n",
    "    print('Dectected Priviledged Substructures: ' +str(psub))\n",
    "    svg = drawmol(key,value,psub)\n",
    "    display(SVG(svg))"
   ]
  },
  {
   "cell_type": "code",
   "execution_count": 27,
   "id": "507daf50",
   "metadata": {},
   "outputs": [],
   "source": [
    "def eliminate_redundancy(frag_list,train_df_sort):\n",
    "    Fragments = []\n",
    "    for fragment in frag_list:\n",
    "        elim_red_frag = {}\n",
    "        elim_red_frag['Fragment'] = fragment\n",
    "        patt = Chem.MolFromSmarts(fragment)\n",
    "        Get_smiles_index = []\n",
    "        for key in train_df_sort.cano_smiles:\n",
    "            smiles = Chem.MolFromSmiles(key)\n",
    "            frag = smiles.HasSubstructMatch(patt)\n",
    "            if frag == True:\n",
    "                Get_smiles_index.append(train_df_sort[train_df_sort.cano_smiles == key].index.tolist()[0])\n",
    "            else:\n",
    "                pass\n",
    "        elim_red_frag['smiles_index'] = list(set(Get_smiles_index))\n",
    "        Fragments.append(elim_red_frag)\n",
    "#    print(Fragments)\n",
    "    Fragments_del_list = []\n",
    "    for i in range(len(Fragments)-1):\n",
    "        for j in range(i+1,len(Fragments)):\n",
    "            if Fragments[i]['smiles_index'] == Fragments[j]['smiles_index']:\n",
    "                patt1 = Chem.MolFromSmarts(Fragments[i]['Fragment'])\n",
    "                patt2 = Chem.MolFromSmarts(Fragments[j]['Fragment'])\n",
    "                smiles1 = Chem.MolFromSmiles(Fragments[i]['Fragment'])\n",
    "                smiles2 = Chem.MolFromSmiles(Fragments[j]['Fragment'])\n",
    "                frag1 = smiles2.HasSubstructMatch(patt1)\n",
    "                frag2 = smiles1.HasSubstructMatch(patt2)\n",
    "                if frag1 == True:\n",
    "                    if frag2 == False:\n",
    "                        Fragments_del_list.append(Fragments[i]['Fragment'])\n",
    "                if frag2 == True:\n",
    "                    if frag1 == False:\n",
    "                        Fragments_del_list.append(Fragments[j]['Fragment'])\n",
    "                if frag1 == False:\n",
    "                    if frag2 == False:\n",
    "                        pass\n",
    "    Final_Fragments_list = [f for f in frag_list if f not in Fragments_del_list]\n",
    "    return Final_Fragments_list\n",
    "\n",
    "def get_virtual_index(patt):\n",
    "    i = 0\n",
    "    virtual_index = []\n",
    "    for atom in patt.GetAtoms():\n",
    "        if atom.GetSymbol() != '*':\n",
    "            virtual_index.append(i)\n",
    "        i += 1\n",
    "    return virtual_index\n",
    "\n",
    "\n",
    "def get_R_virtual_index(patt):\n",
    "    i = 0\n",
    "    virtual_index = []\n",
    "    for atom in patt.GetAtoms():\n",
    "        if atom.GetSymbol() == '*':\n",
    "            virtual_index.append(i)\n",
    "        i += 1\n",
    "    return virtual_index\n",
    "\n",
    "def Find_second_level_substructures(SAs_list,train_df_sort):\n",
    "    result = []\n",
    "    for subs in SAs_list:\n",
    "        subs_smiles_list = []\n",
    "        non_toxicity_SAs = []\n",
    "        non_toxicity_SAs_values = {}\n",
    "        match_compounds_numb = 0\n",
    "        patt = Chem.MolFromSmarts(subs)\n",
    "        for key in train_df_sort.cano_smiles:\n",
    "            smiles = Chem.MolFromSmiles(key)\n",
    "            frag = smiles.HasSubstructMatch(patt)\n",
    "            if frag == True:\n",
    "                match_compounds_numb +=1\n",
    "                subs_smiles_list.append(key)\n",
    "        print(str(subs) + ' matches ' + str(match_compounds_numb)+' compounds')\n",
    "        grinder = Grinder(3,18)\n",
    "        subs_fragment = fragments(collectSubs(dataset(subs_smiles_list),grinder))\n",
    "        print('Totally find ' + str(len(subs_fragment)) + ' fragments')\n",
    "        for sub in subs_fragment:\n",
    "            sub_patt = Chem.MolFromSmarts(sub)\n",
    "            compounds_contain_activity = []\n",
    "            compounds_no_contain_activity = []\n",
    "            for smi in subs_smiles_list:\n",
    "                smile = Chem.MolFromSmiles(smi)\n",
    "                frags = smile.HasSubstructMatch(sub_patt)\n",
    "                if frags == True:\n",
    "                    activity = train_df_sort[train_df_sort.cano_smiles == smi].endpoint.values[0]\n",
    "                    compounds_contain_activity.append(activity)\n",
    "                else:\n",
    "                    inactivity = train_df_sort[train_df_sort.cano_smiles == smi].endpoint.values[0]\n",
    "                    compounds_no_contain_activity.append(inactivity)\n",
    "#           print('compounds contain '  + str(sub)+ ' is ' + str(len(compounds_contain_activity)))\n",
    "            if len(compounds_contain_activity) < 5:\n",
    "                pass\n",
    "            elif len(compounds_no_contain_activity) < 5:\n",
    "                pass\n",
    "            elif len(compounds_contain_activity)/len(compounds_no_contain_activity) > 4:\n",
    "                pass\n",
    "            elif len(compounds_no_contain_activity)/len(compounds_contain_activity) > 4:\n",
    "                pass\n",
    "            else:\n",
    "#               P_value = stats.mannwhitneyu(compounds_contain_activity,compounds_no_contain_activity,alternative = 'less')[1]  #'less' non_toxic\n",
    "                P_value = stats.mannwhitneyu(compounds_contain_activity,compounds_no_contain_activity)[1]\n",
    "                if P_value < 0.01:\n",
    "                    non_toxicity_SAs.append(sub)\n",
    "                    va = np.mean(compounds_contain_activity) - np.mean(compounds_no_contain_activity)\n",
    "                    non_toxicity_SAs_values[sub] = va\n",
    "#                    draw_violin(compounds_contain_activity,compounds_no_contain_activity)\n",
    "                    #print('None_toxicity_SAs: '    + str(sub) + ' number of compounds contain SAs & not : '+ str(len(compounds_contain_activity)) + ':' + str(len(compounds_no_contain_activity)))\n",
    "                else:\n",
    "                    pass\n",
    "        # Inside Molecule analysis\n",
    "        subs_smiles_list_df = pd.DataFrame(data = subs_smiles_list,columns = ['cano_smiles'])\n",
    "        non_toxicity_SAs1 = eliminate_redundancy(non_toxicity_SAs,subs_smiles_list_df)\n",
    "        print('For ' + str(subs)+' totally find '+ str(len(non_toxicity_SAs1))+ ' second-level substructures!')\n",
    "        for subss in non_toxicity_SAs1:\n",
    "            SAs_Non_SAs = {}\n",
    "            SAs_Non_SAs['SA'] = subs\n",
    "            SAs_Non_SAs['Non_SAs'] = subss\n",
    "            SAs_Non_SAs['score'] = non_toxicity_SAs_values[subss]\n",
    "            non_toxic_patt = Chem.MolFromSmarts(subss)\n",
    "            no_SA_R_index = get_R_virtual_index(non_toxic_patt)\n",
    "            stat1 = [[m] for m in range(len(no_SA_R_index))]\n",
    "            stat2 = []\n",
    "            RES = 0\n",
    "            CES = 0\n",
    "            NTS = 0\n",
    "            ZES = 0\n",
    "            for smiss in subs_smiles_list:\n",
    "                ssmile = Chem.MolFromSmiles(smiss)\n",
    "                ffrag = ssmile.HasSubstructMatch(non_toxic_patt)\n",
    "                if ffrag == True:\n",
    "                    atom_numbers_SAs = ssmile.GetSubstructMatches(patt)\n",
    "                    atom_numbers_non_SAs = ssmile.GetSubstructMatches(non_toxic_patt)\n",
    "                    SA_index = get_virtual_index(patt)\n",
    "                    no_SA_index = get_virtual_index(non_toxic_patt)\n",
    "                    for j in range(len(atom_numbers_non_SAs)):\n",
    "                        no_SA_distance_index = [atom_numbers_non_SAs[j][n] for n in no_SA_index]\n",
    "                        atom_index = [atom_numbers_non_SAs[j][m] for m in no_SA_R_index]\n",
    "                        for n in range(len(atom_index)):\n",
    "                            atom = ssmile.GetAtomWithIdx(atom_index[n]).GetSymbol()\n",
    "                            stat1[n].append(atom)\n",
    "                        for i in range(len(atom_numbers_SAs)):\n",
    "                            SA_distance_index = [atom_numbers_SAs[i][m] for m in SA_index]\n",
    "                            distance = Chem.GetDistanceMatrix(ssmile)\n",
    "                            subs_distance = np.array(distance[SA_distance_index,:][:,no_SA_distance_index])\n",
    "                            if subs_distance.min() == 0:\n",
    "                                RES += 1\n",
    "                            elif subs_distance.min() == 1:\n",
    "                                CES += 1 \n",
    "                            elif subs_distance.min() <= 3:\n",
    "                                ZES += 1\n",
    "                            else:\n",
    "                                NTS += 1\n",
    "            SAs_Non_SAs['RES'] = RES\n",
    "            SAs_Non_SAs['CES'] = CES\n",
    "            SAs_Non_SAs['NTS'] = NTS\n",
    "            SAs_Non_SAs['ZES'] = ZES\n",
    "            for x in range(len(stat1)):\n",
    "                stat3 = {}\n",
    "                for y in stat1[x]:\n",
    "                    stat3[y] = stat1[x].count(y)\n",
    "                stat2.append(stat3)\n",
    "            SAs_Non_SAs['R_group'] = stat2\n",
    "            result.append(SAs_Non_SAs)\n",
    "    return result"
   ]
  },
  {
   "cell_type": "code",
   "execution_count": 28,
   "id": "81b3a716",
   "metadata": {},
   "outputs": [],
   "source": [
    "target = 'ppb_3922'\n",
    "df = pd.read_csv(target+'.csv')\n",
    "molset = [Chem.MolFromSmiles(smi) for smi in df.cano_smiles]\n",
    "train_df = df[df.set_split == 'train'].drop('set_split',axis=1).reset_index(drop= True)\n",
    "smi_list = [smi for smi in train_df.cano_smiles]\n",
    "train_df_sort = train_df.sort_values(by = 'endpoint',ascending = False).reset_index(drop=True)"
   ]
  },
  {
   "cell_type": "code",
   "execution_count": 29,
   "id": "797632b5",
   "metadata": {},
   "outputs": [
    {
     "name": "stdout",
     "output_type": "stream",
     "text": [
      "CN1CC(*)C1 matches 125 compounds\n",
      "Totally find 5062 fragments\n",
      "For CN1CC(*)C1 totally find 10 second-level substructures!\n"
     ]
    }
   ],
   "source": [
    "SA = ['CN1CC(*)C1']\n",
    "r = Find_second_level_substructures(SA,train_df_sort)"
   ]
  },
  {
   "cell_type": "code",
   "execution_count": 26,
   "id": "632d4f1b",
   "metadata": {},
   "outputs": [],
   "source": [
    "with open('Results.smi','w')\tas f:\n",
    "    f.write('SA_Fragment\\tNAS\\tScore\\tRES\\tCES\\tZES\\tNTS\\n')\n",
    "    for\ti in range(len(r)):\n",
    "        f.write(str(r[i]['SA'])+'\\t'+str(r[i]['Non_SAs'])+'\\t'+str(r[i]['score'])+'\\t'+str(r[i]['RES'])+'\\t'+str(r[i]['CES'])+'\\t'+str(r[i]['ZES'])+'\\t'+str(r[i]['NTS']))+'\\n')\n",
    "    f.close()"
   ]
  },
  {
   "cell_type": "code",
   "execution_count": null,
   "id": "b6658ee2",
   "metadata": {},
   "outputs": [],
   "source": []
  }
 ],
 "metadata": {
  "kernelspec": {
   "display_name": "Python 3 (ipykernel)",
   "language": "python",
   "name": "python3"
  },
  "language_info": {
   "codemirror_mode": {
    "name": "ipython",
    "version": 3
   },
   "file_extension": ".py",
   "mimetype": "text/x-python",
   "name": "python",
   "nbconvert_exporter": "python",
   "pygments_lexer": "ipython3",
   "version": "3.7.16"
  }
 },
 "nbformat": 4,
 "nbformat_minor": 5
}
